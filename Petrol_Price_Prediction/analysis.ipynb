{
 "cells": [
  {
   "cell_type": "code",
   "execution_count": 23,
   "id": "30b7b43a",
   "metadata": {},
   "outputs": [],
   "source": [
    "import pandas as pd\n",
    "from pandas.tseries.offsets import MonthBegin"
   ]
  },
  {
   "cell_type": "code",
   "execution_count": 36,
   "id": "dd7b51d4",
   "metadata": {},
   "outputs": [],
   "source": [
    "gold_file = 'daily_gold_rate.csv'\n",
    "crude_file = 'crude-oil-price.csv'\n",
    "usd_file = 'rbi_usd_to_inr.csv'"
   ]
  },
  {
   "cell_type": "code",
   "execution_count": 15,
   "id": "03443ef5",
   "metadata": {},
   "outputs": [],
   "source": [
    "def prepare_monthly_data(data2):\n",
    "    data2['Month'] = data2['Date'].apply(lambda x: MonthBegin(0).rollback(x))\n",
    "    g_data1 = data2.groupby(by='Month', as_index=False).mean()\n",
    "    g_data1['Rate'] = round(g_data1['Rate'], 2)\n",
    "    g_data1.rename({'Rate':'Month_Mean_Rate'}, axis=1, inplace=True)\n",
    "    merge_data = pd.merge(left=data2, right=g_data1, on='Month')\n",
    "    return merge_data"
   ]
  },
  {
   "cell_type": "markdown",
   "id": "77592b2a",
   "metadata": {},
   "source": [
    "# Reading USD file"
   ]
  },
  {
   "cell_type": "code",
   "execution_count": 90,
   "id": "a3f38166",
   "metadata": {},
   "outputs": [],
   "source": [
    "usd = pd.read_csv(usd_file)"
   ]
  },
  {
   "cell_type": "code",
   "execution_count": 91,
   "id": "cba2092c",
   "metadata": {},
   "outputs": [
    {
     "data": {
      "text/html": [
       "<div>\n",
       "<style scoped>\n",
       "    .dataframe tbody tr th:only-of-type {\n",
       "        vertical-align: middle;\n",
       "    }\n",
       "\n",
       "    .dataframe tbody tr th {\n",
       "        vertical-align: top;\n",
       "    }\n",
       "\n",
       "    .dataframe thead th {\n",
       "        text-align: right;\n",
       "    }\n",
       "</style>\n",
       "<table border=\"1\" class=\"dataframe\">\n",
       "  <thead>\n",
       "    <tr style=\"text-align: right;\">\n",
       "      <th></th>\n",
       "      <th>Date</th>\n",
       "      <th>Rate</th>\n",
       "    </tr>\n",
       "  </thead>\n",
       "  <tbody>\n",
       "    <tr>\n",
       "      <th>0</th>\n",
       "      <td>2022-06-27</td>\n",
       "      <td>78.2890</td>\n",
       "    </tr>\n",
       "    <tr>\n",
       "      <th>1</th>\n",
       "      <td>2022-06-24</td>\n",
       "      <td>78.3308</td>\n",
       "    </tr>\n",
       "    <tr>\n",
       "      <th>2</th>\n",
       "      <td>2022-06-23</td>\n",
       "      <td>78.2662</td>\n",
       "    </tr>\n",
       "    <tr>\n",
       "      <th>3</th>\n",
       "      <td>2022-06-22</td>\n",
       "      <td>78.2115</td>\n",
       "    </tr>\n",
       "    <tr>\n",
       "      <th>4</th>\n",
       "      <td>2022-06-21</td>\n",
       "      <td>78.0861</td>\n",
       "    </tr>\n",
       "  </tbody>\n",
       "</table>\n",
       "</div>"
      ],
      "text/plain": [
       "         Date     Rate\n",
       "0  2022-06-27  78.2890\n",
       "1  2022-06-24  78.3308\n",
       "2  2022-06-23  78.2662\n",
       "3  2022-06-22  78.2115\n",
       "4  2022-06-21  78.0861"
      ]
     },
     "execution_count": 91,
     "metadata": {},
     "output_type": "execute_result"
    }
   ],
   "source": [
    "usd.head()"
   ]
  },
  {
   "cell_type": "code",
   "execution_count": 92,
   "id": "716013bd",
   "metadata": {},
   "outputs": [
    {
     "name": "stdout",
     "output_type": "stream",
     "text": [
      "<class 'pandas.core.frame.DataFrame'>\n",
      "RangeIndex: 5764 entries, 0 to 5763\n",
      "Data columns (total 2 columns):\n",
      " #   Column  Non-Null Count  Dtype  \n",
      "---  ------  --------------  -----  \n",
      " 0   Date    5764 non-null   object \n",
      " 1   Rate    5764 non-null   float64\n",
      "dtypes: float64(1), object(1)\n",
      "memory usage: 90.2+ KB\n"
     ]
    }
   ],
   "source": [
    "usd.info()"
   ]
  },
  {
   "cell_type": "code",
   "execution_count": 93,
   "id": "4b47244d",
   "metadata": {},
   "outputs": [],
   "source": [
    "usd['Date'] = pd.to_datetime(usd['Date'])"
   ]
  },
  {
   "cell_type": "code",
   "execution_count": 94,
   "id": "d43a5099",
   "metadata": {},
   "outputs": [],
   "source": [
    "usd.rename({'Rate':'usd_rate'}, axis=1, inplace=True)"
   ]
  },
  {
   "cell_type": "code",
   "execution_count": 95,
   "id": "f7e7df1a",
   "metadata": {},
   "outputs": [
    {
     "data": {
      "text/html": [
       "<div>\n",
       "<style scoped>\n",
       "    .dataframe tbody tr th:only-of-type {\n",
       "        vertical-align: middle;\n",
       "    }\n",
       "\n",
       "    .dataframe tbody tr th {\n",
       "        vertical-align: top;\n",
       "    }\n",
       "\n",
       "    .dataframe thead th {\n",
       "        text-align: right;\n",
       "    }\n",
       "</style>\n",
       "<table border=\"1\" class=\"dataframe\">\n",
       "  <thead>\n",
       "    <tr style=\"text-align: right;\">\n",
       "      <th></th>\n",
       "      <th>Date</th>\n",
       "      <th>usd_rate</th>\n",
       "    </tr>\n",
       "  </thead>\n",
       "  <tbody>\n",
       "    <tr>\n",
       "      <th>0</th>\n",
       "      <td>2022-06-27</td>\n",
       "      <td>78.2890</td>\n",
       "    </tr>\n",
       "    <tr>\n",
       "      <th>1</th>\n",
       "      <td>2022-06-24</td>\n",
       "      <td>78.3308</td>\n",
       "    </tr>\n",
       "    <tr>\n",
       "      <th>2</th>\n",
       "      <td>2022-06-23</td>\n",
       "      <td>78.2662</td>\n",
       "    </tr>\n",
       "    <tr>\n",
       "      <th>3</th>\n",
       "      <td>2022-06-22</td>\n",
       "      <td>78.2115</td>\n",
       "    </tr>\n",
       "    <tr>\n",
       "      <th>4</th>\n",
       "      <td>2022-06-21</td>\n",
       "      <td>78.0861</td>\n",
       "    </tr>\n",
       "  </tbody>\n",
       "</table>\n",
       "</div>"
      ],
      "text/plain": [
       "        Date  usd_rate\n",
       "0 2022-06-27   78.2890\n",
       "1 2022-06-24   78.3308\n",
       "2 2022-06-23   78.2662\n",
       "3 2022-06-22   78.2115\n",
       "4 2022-06-21   78.0861"
      ]
     },
     "execution_count": 95,
     "metadata": {},
     "output_type": "execute_result"
    }
   ],
   "source": [
    "usd.head()"
   ]
  },
  {
   "cell_type": "code",
   "execution_count": 96,
   "id": "e34adf3c",
   "metadata": {},
   "outputs": [],
   "source": [
    "usd['Month'] = usd['Date'].apply(lambda x: MonthBegin(0).rollback(x))\n",
    "usd_month = usd.groupby(by='Month', as_index=False).mean()"
   ]
  },
  {
   "cell_type": "code",
   "execution_count": 97,
   "id": "837fbfdb",
   "metadata": {},
   "outputs": [],
   "source": [
    "usd_month['usd_rate'] = round(usd_month['usd_rate'], 2)"
   ]
  },
  {
   "cell_type": "code",
   "execution_count": 98,
   "id": "d30cd119",
   "metadata": {},
   "outputs": [
    {
     "data": {
      "text/html": [
       "<div>\n",
       "<style scoped>\n",
       "    .dataframe tbody tr th:only-of-type {\n",
       "        vertical-align: middle;\n",
       "    }\n",
       "\n",
       "    .dataframe tbody tr th {\n",
       "        vertical-align: top;\n",
       "    }\n",
       "\n",
       "    .dataframe thead th {\n",
       "        text-align: right;\n",
       "    }\n",
       "</style>\n",
       "<table border=\"1\" class=\"dataframe\">\n",
       "  <thead>\n",
       "    <tr style=\"text-align: right;\">\n",
       "      <th></th>\n",
       "      <th>Month</th>\n",
       "      <th>usd_rate</th>\n",
       "    </tr>\n",
       "  </thead>\n",
       "  <tbody>\n",
       "    <tr>\n",
       "      <th>0</th>\n",
       "      <td>1998-08-01</td>\n",
       "      <td>42.52</td>\n",
       "    </tr>\n",
       "    <tr>\n",
       "      <th>1</th>\n",
       "      <td>1998-09-01</td>\n",
       "      <td>42.52</td>\n",
       "    </tr>\n",
       "    <tr>\n",
       "      <th>2</th>\n",
       "      <td>1998-10-01</td>\n",
       "      <td>42.33</td>\n",
       "    </tr>\n",
       "    <tr>\n",
       "      <th>3</th>\n",
       "      <td>1998-11-01</td>\n",
       "      <td>42.38</td>\n",
       "    </tr>\n",
       "    <tr>\n",
       "      <th>4</th>\n",
       "      <td>1998-12-01</td>\n",
       "      <td>42.55</td>\n",
       "    </tr>\n",
       "  </tbody>\n",
       "</table>\n",
       "</div>"
      ],
      "text/plain": [
       "       Month  usd_rate\n",
       "0 1998-08-01     42.52\n",
       "1 1998-09-01     42.52\n",
       "2 1998-10-01     42.33\n",
       "3 1998-11-01     42.38\n",
       "4 1998-12-01     42.55"
      ]
     },
     "execution_count": 98,
     "metadata": {},
     "output_type": "execute_result"
    }
   ],
   "source": [
    "usd_month.head()"
   ]
  },
  {
   "cell_type": "code",
   "execution_count": 99,
   "id": "5f45df45",
   "metadata": {},
   "outputs": [
    {
     "data": {
      "text/html": [
       "<div>\n",
       "<style scoped>\n",
       "    .dataframe tbody tr th:only-of-type {\n",
       "        vertical-align: middle;\n",
       "    }\n",
       "\n",
       "    .dataframe tbody tr th {\n",
       "        vertical-align: top;\n",
       "    }\n",
       "\n",
       "    .dataframe thead th {\n",
       "        text-align: right;\n",
       "    }\n",
       "</style>\n",
       "<table border=\"1\" class=\"dataframe\">\n",
       "  <thead>\n",
       "    <tr style=\"text-align: right;\">\n",
       "      <th></th>\n",
       "      <th>Date</th>\n",
       "      <th>usd_rate</th>\n",
       "      <th>Month</th>\n",
       "    </tr>\n",
       "  </thead>\n",
       "  <tbody>\n",
       "    <tr>\n",
       "      <th>0</th>\n",
       "      <td>2022-06-27</td>\n",
       "      <td>78.2890</td>\n",
       "      <td>2022-06-01</td>\n",
       "    </tr>\n",
       "    <tr>\n",
       "      <th>1</th>\n",
       "      <td>2022-06-24</td>\n",
       "      <td>78.3308</td>\n",
       "      <td>2022-06-01</td>\n",
       "    </tr>\n",
       "    <tr>\n",
       "      <th>2</th>\n",
       "      <td>2022-06-23</td>\n",
       "      <td>78.2662</td>\n",
       "      <td>2022-06-01</td>\n",
       "    </tr>\n",
       "    <tr>\n",
       "      <th>3</th>\n",
       "      <td>2022-06-22</td>\n",
       "      <td>78.2115</td>\n",
       "      <td>2022-06-01</td>\n",
       "    </tr>\n",
       "    <tr>\n",
       "      <th>4</th>\n",
       "      <td>2022-06-21</td>\n",
       "      <td>78.0861</td>\n",
       "      <td>2022-06-01</td>\n",
       "    </tr>\n",
       "  </tbody>\n",
       "</table>\n",
       "</div>"
      ],
      "text/plain": [
       "        Date  usd_rate      Month\n",
       "0 2022-06-27   78.2890 2022-06-01\n",
       "1 2022-06-24   78.3308 2022-06-01\n",
       "2 2022-06-23   78.2662 2022-06-01\n",
       "3 2022-06-22   78.2115 2022-06-01\n",
       "4 2022-06-21   78.0861 2022-06-01"
      ]
     },
     "execution_count": 99,
     "metadata": {},
     "output_type": "execute_result"
    }
   ],
   "source": [
    "usd.head()"
   ]
  },
  {
   "cell_type": "markdown",
   "id": "a6fdd186",
   "metadata": {},
   "source": [
    "# Reading Gold File"
   ]
  },
  {
   "cell_type": "code",
   "execution_count": 100,
   "id": "ef1e4bb7",
   "metadata": {},
   "outputs": [],
   "source": [
    "gold = pd.read_csv(gold_file)"
   ]
  },
  {
   "cell_type": "code",
   "execution_count": 101,
   "id": "6111c9d1",
   "metadata": {},
   "outputs": [
    {
     "name": "stdout",
     "output_type": "stream",
     "text": [
      "<class 'pandas.core.frame.DataFrame'>\n",
      "RangeIndex: 9774 entries, 0 to 9773\n",
      "Data columns (total 7 columns):\n",
      " #   Column  Non-Null Count  Dtype  \n",
      "---  ------  --------------  -----  \n",
      " 0   Date    9774 non-null   object \n",
      " 1   USD     9774 non-null   float64\n",
      " 2   EUR     9774 non-null   float64\n",
      " 3   GBP     9774 non-null   float64\n",
      " 4   INR     9774 non-null   float64\n",
      " 5   AED     9774 non-null   float64\n",
      " 6   CNY     9770 non-null   float64\n",
      "dtypes: float64(6), object(1)\n",
      "memory usage: 534.6+ KB\n"
     ]
    }
   ],
   "source": [
    "gold.info()"
   ]
  },
  {
   "cell_type": "code",
   "execution_count": 102,
   "id": "cb24de39",
   "metadata": {},
   "outputs": [
    {
     "data": {
      "text/html": [
       "<div>\n",
       "<style scoped>\n",
       "    .dataframe tbody tr th:only-of-type {\n",
       "        vertical-align: middle;\n",
       "    }\n",
       "\n",
       "    .dataframe tbody tr th {\n",
       "        vertical-align: top;\n",
       "    }\n",
       "\n",
       "    .dataframe thead th {\n",
       "        text-align: right;\n",
       "    }\n",
       "</style>\n",
       "<table border=\"1\" class=\"dataframe\">\n",
       "  <thead>\n",
       "    <tr style=\"text-align: right;\">\n",
       "      <th></th>\n",
       "      <th>Date</th>\n",
       "      <th>USD</th>\n",
       "      <th>EUR</th>\n",
       "      <th>GBP</th>\n",
       "      <th>INR</th>\n",
       "      <th>AED</th>\n",
       "      <th>CNY</th>\n",
       "    </tr>\n",
       "  </thead>\n",
       "  <tbody>\n",
       "    <tr>\n",
       "      <th>0</th>\n",
       "      <td>1985-01-01</td>\n",
       "      <td>308.30</td>\n",
       "      <td>402.45</td>\n",
       "      <td>266.01</td>\n",
       "      <td>3825.85</td>\n",
       "      <td>1134.42</td>\n",
       "      <td>NaN</td>\n",
       "    </tr>\n",
       "    <tr>\n",
       "      <th>1</th>\n",
       "      <td>1985-01-02</td>\n",
       "      <td>305.50</td>\n",
       "      <td>401.49</td>\n",
       "      <td>266.00</td>\n",
       "      <td>3787.05</td>\n",
       "      <td>1134.42</td>\n",
       "      <td>NaN</td>\n",
       "    </tr>\n",
       "    <tr>\n",
       "      <th>2</th>\n",
       "      <td>1985-01-03</td>\n",
       "      <td>302.30</td>\n",
       "      <td>397.08</td>\n",
       "      <td>262.76</td>\n",
       "      <td>3718.88</td>\n",
       "      <td>1107.67</td>\n",
       "      <td>NaN</td>\n",
       "    </tr>\n",
       "    <tr>\n",
       "      <th>3</th>\n",
       "      <td>1985-01-04</td>\n",
       "      <td>303.15</td>\n",
       "      <td>397.15</td>\n",
       "      <td>262.58</td>\n",
       "      <td>3759.64</td>\n",
       "      <td>1118.21</td>\n",
       "      <td>NaN</td>\n",
       "    </tr>\n",
       "    <tr>\n",
       "      <th>4</th>\n",
       "      <td>1985-01-07</td>\n",
       "      <td>298.25</td>\n",
       "      <td>392.55</td>\n",
       "      <td>261.17</td>\n",
       "      <td>3741.23</td>\n",
       "      <td>1091.58</td>\n",
       "      <td>835.8</td>\n",
       "    </tr>\n",
       "  </tbody>\n",
       "</table>\n",
       "</div>"
      ],
      "text/plain": [
       "         Date     USD     EUR     GBP      INR      AED    CNY\n",
       "0  1985-01-01  308.30  402.45  266.01  3825.85  1134.42    NaN\n",
       "1  1985-01-02  305.50  401.49  266.00  3787.05  1134.42    NaN\n",
       "2  1985-01-03  302.30  397.08  262.76  3718.88  1107.67    NaN\n",
       "3  1985-01-04  303.15  397.15  262.58  3759.64  1118.21    NaN\n",
       "4  1985-01-07  298.25  392.55  261.17  3741.23  1091.58  835.8"
      ]
     },
     "execution_count": 102,
     "metadata": {},
     "output_type": "execute_result"
    }
   ],
   "source": [
    "gold.head()"
   ]
  },
  {
   "cell_type": "code",
   "execution_count": 103,
   "id": "773fe98a",
   "metadata": {},
   "outputs": [
    {
     "data": {
      "text/html": [
       "<div>\n",
       "<style scoped>\n",
       "    .dataframe tbody tr th:only-of-type {\n",
       "        vertical-align: middle;\n",
       "    }\n",
       "\n",
       "    .dataframe tbody tr th {\n",
       "        vertical-align: top;\n",
       "    }\n",
       "\n",
       "    .dataframe thead th {\n",
       "        text-align: right;\n",
       "    }\n",
       "</style>\n",
       "<table border=\"1\" class=\"dataframe\">\n",
       "  <thead>\n",
       "    <tr style=\"text-align: right;\">\n",
       "      <th></th>\n",
       "      <th>Date</th>\n",
       "      <th>INR</th>\n",
       "    </tr>\n",
       "  </thead>\n",
       "  <tbody>\n",
       "    <tr>\n",
       "      <th>0</th>\n",
       "      <td>1985-01-01</td>\n",
       "      <td>3825.85</td>\n",
       "    </tr>\n",
       "    <tr>\n",
       "      <th>1</th>\n",
       "      <td>1985-01-02</td>\n",
       "      <td>3787.05</td>\n",
       "    </tr>\n",
       "    <tr>\n",
       "      <th>2</th>\n",
       "      <td>1985-01-03</td>\n",
       "      <td>3718.88</td>\n",
       "    </tr>\n",
       "    <tr>\n",
       "      <th>3</th>\n",
       "      <td>1985-01-04</td>\n",
       "      <td>3759.64</td>\n",
       "    </tr>\n",
       "    <tr>\n",
       "      <th>4</th>\n",
       "      <td>1985-01-07</td>\n",
       "      <td>3741.23</td>\n",
       "    </tr>\n",
       "  </tbody>\n",
       "</table>\n",
       "</div>"
      ],
      "text/plain": [
       "         Date      INR\n",
       "0  1985-01-01  3825.85\n",
       "1  1985-01-02  3787.05\n",
       "2  1985-01-03  3718.88\n",
       "3  1985-01-04  3759.64\n",
       "4  1985-01-07  3741.23"
      ]
     },
     "execution_count": 103,
     "metadata": {},
     "output_type": "execute_result"
    }
   ],
   "source": [
    "gold = gold[['Date', 'INR']]\n",
    "gold.head()"
   ]
  },
  {
   "cell_type": "markdown",
   "id": "e1bffa7a",
   "metadata": {},
   "source": [
    "Daily gold rate from 1985 to Present per troy ounce in their national currency( 1 t oz = 31.1g). Cconeerting the rates to per grams"
   ]
  },
  {
   "cell_type": "code",
   "execution_count": 104,
   "id": "b3181e86",
   "metadata": {},
   "outputs": [],
   "source": [
    "gold['INR'] = gold['INR']/31.1"
   ]
  },
  {
   "cell_type": "code",
   "execution_count": 105,
   "id": "992267fe",
   "metadata": {},
   "outputs": [
    {
     "data": {
      "text/html": [
       "<div>\n",
       "<style scoped>\n",
       "    .dataframe tbody tr th:only-of-type {\n",
       "        vertical-align: middle;\n",
       "    }\n",
       "\n",
       "    .dataframe tbody tr th {\n",
       "        vertical-align: top;\n",
       "    }\n",
       "\n",
       "    .dataframe thead th {\n",
       "        text-align: right;\n",
       "    }\n",
       "</style>\n",
       "<table border=\"1\" class=\"dataframe\">\n",
       "  <thead>\n",
       "    <tr style=\"text-align: right;\">\n",
       "      <th></th>\n",
       "      <th>Date</th>\n",
       "      <th>INR</th>\n",
       "    </tr>\n",
       "  </thead>\n",
       "  <tbody>\n",
       "    <tr>\n",
       "      <th>0</th>\n",
       "      <td>1985-01-01</td>\n",
       "      <td>123.017685</td>\n",
       "    </tr>\n",
       "    <tr>\n",
       "      <th>1</th>\n",
       "      <td>1985-01-02</td>\n",
       "      <td>121.770096</td>\n",
       "    </tr>\n",
       "    <tr>\n",
       "      <th>2</th>\n",
       "      <td>1985-01-03</td>\n",
       "      <td>119.578135</td>\n",
       "    </tr>\n",
       "    <tr>\n",
       "      <th>3</th>\n",
       "      <td>1985-01-04</td>\n",
       "      <td>120.888746</td>\n",
       "    </tr>\n",
       "    <tr>\n",
       "      <th>4</th>\n",
       "      <td>1985-01-07</td>\n",
       "      <td>120.296785</td>\n",
       "    </tr>\n",
       "  </tbody>\n",
       "</table>\n",
       "</div>"
      ],
      "text/plain": [
       "         Date         INR\n",
       "0  1985-01-01  123.017685\n",
       "1  1985-01-02  121.770096\n",
       "2  1985-01-03  119.578135\n",
       "3  1985-01-04  120.888746\n",
       "4  1985-01-07  120.296785"
      ]
     },
     "execution_count": 105,
     "metadata": {},
     "output_type": "execute_result"
    }
   ],
   "source": [
    "gold.head()"
   ]
  },
  {
   "cell_type": "code",
   "execution_count": 106,
   "id": "0e700ddb",
   "metadata": {},
   "outputs": [],
   "source": [
    "gold['Month'] = gold['Date'].apply(lambda x: MonthBegin(0).rollback(x))\n",
    "gold_month = gold.groupby(by='Month', as_index=False).mean()"
   ]
  },
  {
   "cell_type": "code",
   "execution_count": 107,
   "id": "cf3a9b2b",
   "metadata": {},
   "outputs": [
    {
     "data": {
      "text/html": [
       "<div>\n",
       "<style scoped>\n",
       "    .dataframe tbody tr th:only-of-type {\n",
       "        vertical-align: middle;\n",
       "    }\n",
       "\n",
       "    .dataframe tbody tr th {\n",
       "        vertical-align: top;\n",
       "    }\n",
       "\n",
       "    .dataframe thead th {\n",
       "        text-align: right;\n",
       "    }\n",
       "</style>\n",
       "<table border=\"1\" class=\"dataframe\">\n",
       "  <thead>\n",
       "    <tr style=\"text-align: right;\">\n",
       "      <th></th>\n",
       "      <th>Month</th>\n",
       "      <th>INR</th>\n",
       "    </tr>\n",
       "  </thead>\n",
       "  <tbody>\n",
       "    <tr>\n",
       "      <th>0</th>\n",
       "      <td>1985-01-01</td>\n",
       "      <td>122.631134</td>\n",
       "    </tr>\n",
       "    <tr>\n",
       "      <th>1</th>\n",
       "      <td>1985-02-01</td>\n",
       "      <td>124.423071</td>\n",
       "    </tr>\n",
       "    <tr>\n",
       "      <th>2</th>\n",
       "      <td>1985-03-01</td>\n",
       "      <td>124.005527</td>\n",
       "    </tr>\n",
       "    <tr>\n",
       "      <th>3</th>\n",
       "      <td>1985-04-01</td>\n",
       "      <td>128.665580</td>\n",
       "    </tr>\n",
       "    <tr>\n",
       "      <th>4</th>\n",
       "      <td>1985-05-01</td>\n",
       "      <td>125.993597</td>\n",
       "    </tr>\n",
       "  </tbody>\n",
       "</table>\n",
       "</div>"
      ],
      "text/plain": [
       "       Month         INR\n",
       "0 1985-01-01  122.631134\n",
       "1 1985-02-01  124.423071\n",
       "2 1985-03-01  124.005527\n",
       "3 1985-04-01  128.665580\n",
       "4 1985-05-01  125.993597"
      ]
     },
     "execution_count": 107,
     "metadata": {},
     "output_type": "execute_result"
    }
   ],
   "source": [
    "gold_month.head()"
   ]
  },
  {
   "cell_type": "code",
   "execution_count": 108,
   "id": "b7f0111e",
   "metadata": {},
   "outputs": [],
   "source": [
    "gold_month['INR'] = round(gold_month['INR'], 2)\n",
    "gold_month.rename({'INR':'gold_rate'}, axis=1, inplace=True)"
   ]
  },
  {
   "cell_type": "code",
   "execution_count": 109,
   "id": "78556925",
   "metadata": {},
   "outputs": [
    {
     "data": {
      "text/html": [
       "<div>\n",
       "<style scoped>\n",
       "    .dataframe tbody tr th:only-of-type {\n",
       "        vertical-align: middle;\n",
       "    }\n",
       "\n",
       "    .dataframe tbody tr th {\n",
       "        vertical-align: top;\n",
       "    }\n",
       "\n",
       "    .dataframe thead th {\n",
       "        text-align: right;\n",
       "    }\n",
       "</style>\n",
       "<table border=\"1\" class=\"dataframe\">\n",
       "  <thead>\n",
       "    <tr style=\"text-align: right;\">\n",
       "      <th></th>\n",
       "      <th>Month</th>\n",
       "      <th>gold_rate</th>\n",
       "    </tr>\n",
       "  </thead>\n",
       "  <tbody>\n",
       "    <tr>\n",
       "      <th>0</th>\n",
       "      <td>1985-01-01</td>\n",
       "      <td>122.63</td>\n",
       "    </tr>\n",
       "    <tr>\n",
       "      <th>1</th>\n",
       "      <td>1985-02-01</td>\n",
       "      <td>124.42</td>\n",
       "    </tr>\n",
       "    <tr>\n",
       "      <th>2</th>\n",
       "      <td>1985-03-01</td>\n",
       "      <td>124.01</td>\n",
       "    </tr>\n",
       "    <tr>\n",
       "      <th>3</th>\n",
       "      <td>1985-04-01</td>\n",
       "      <td>128.67</td>\n",
       "    </tr>\n",
       "    <tr>\n",
       "      <th>4</th>\n",
       "      <td>1985-05-01</td>\n",
       "      <td>125.99</td>\n",
       "    </tr>\n",
       "  </tbody>\n",
       "</table>\n",
       "</div>"
      ],
      "text/plain": [
       "       Month  gold_rate\n",
       "0 1985-01-01     122.63\n",
       "1 1985-02-01     124.42\n",
       "2 1985-03-01     124.01\n",
       "3 1985-04-01     128.67\n",
       "4 1985-05-01     125.99"
      ]
     },
     "execution_count": 109,
     "metadata": {},
     "output_type": "execute_result"
    }
   ],
   "source": [
    "gold_month.head()"
   ]
  },
  {
   "cell_type": "markdown",
   "id": "c4cb9491",
   "metadata": {},
   "source": [
    "# Read Crude oil data"
   ]
  },
  {
   "cell_type": "code",
   "execution_count": 120,
   "id": "3ef7cd47",
   "metadata": {},
   "outputs": [],
   "source": [
    "crude = pd.read_csv(crude_file)"
   ]
  },
  {
   "cell_type": "code",
   "execution_count": 121,
   "id": "e0bb1b07",
   "metadata": {},
   "outputs": [
    {
     "data": {
      "text/html": [
       "<div>\n",
       "<style scoped>\n",
       "    .dataframe tbody tr th:only-of-type {\n",
       "        vertical-align: middle;\n",
       "    }\n",
       "\n",
       "    .dataframe tbody tr th {\n",
       "        vertical-align: top;\n",
       "    }\n",
       "\n",
       "    .dataframe thead th {\n",
       "        text-align: right;\n",
       "    }\n",
       "</style>\n",
       "<table border=\"1\" class=\"dataframe\">\n",
       "  <thead>\n",
       "    <tr style=\"text-align: right;\">\n",
       "      <th></th>\n",
       "      <th>date</th>\n",
       "      <th>price</th>\n",
       "      <th>percentChange</th>\n",
       "      <th>change</th>\n",
       "    </tr>\n",
       "  </thead>\n",
       "  <tbody>\n",
       "    <tr>\n",
       "      <th>0</th>\n",
       "      <td>1983-03-30T00:00:00</td>\n",
       "      <td>29.27</td>\n",
       "      <td>NaN</td>\n",
       "      <td>NaN</td>\n",
       "    </tr>\n",
       "    <tr>\n",
       "      <th>1</th>\n",
       "      <td>1983-04-04T00:00:00</td>\n",
       "      <td>30.63</td>\n",
       "      <td>4.646396</td>\n",
       "      <td>1.36</td>\n",
       "    </tr>\n",
       "    <tr>\n",
       "      <th>2</th>\n",
       "      <td>1983-05-02T00:00:00</td>\n",
       "      <td>30.25</td>\n",
       "      <td>-1.240614</td>\n",
       "      <td>-0.38</td>\n",
       "    </tr>\n",
       "    <tr>\n",
       "      <th>3</th>\n",
       "      <td>1983-06-01T00:00:00</td>\n",
       "      <td>31.38</td>\n",
       "      <td>3.735537</td>\n",
       "      <td>1.13</td>\n",
       "    </tr>\n",
       "    <tr>\n",
       "      <th>4</th>\n",
       "      <td>1983-07-01T00:00:00</td>\n",
       "      <td>32.00</td>\n",
       "      <td>1.975781</td>\n",
       "      <td>0.62</td>\n",
       "    </tr>\n",
       "  </tbody>\n",
       "</table>\n",
       "</div>"
      ],
      "text/plain": [
       "                  date  price  percentChange  change\n",
       "0  1983-03-30T00:00:00  29.27            NaN     NaN\n",
       "1  1983-04-04T00:00:00  30.63       4.646396    1.36\n",
       "2  1983-05-02T00:00:00  30.25      -1.240614   -0.38\n",
       "3  1983-06-01T00:00:00  31.38       3.735537    1.13\n",
       "4  1983-07-01T00:00:00  32.00       1.975781    0.62"
      ]
     },
     "execution_count": 121,
     "metadata": {},
     "output_type": "execute_result"
    }
   ],
   "source": [
    "crude.head()"
   ]
  },
  {
   "cell_type": "markdown",
   "id": "65baa75e",
   "metadata": {},
   "source": [
    "Crude oil price in USD/Bbl from 1983 to present. Cconverting it to INR/Bbl"
   ]
  },
  {
   "cell_type": "code",
   "execution_count": 122,
   "id": "19b988b9",
   "metadata": {},
   "outputs": [],
   "source": [
    "crude['date'] = pd.to_datetime(crude['date'])\n",
    "crude.rename({'date': 'Date', 'price':'crude_rate'}, axis=1, inplace=True)"
   ]
  },
  {
   "cell_type": "code",
   "execution_count": 123,
   "id": "3fc3be12",
   "metadata": {},
   "outputs": [],
   "source": [
    "crude = crude[['Date','crude_rate']]"
   ]
  },
  {
   "cell_type": "code",
   "execution_count": 124,
   "id": "ffd63c97",
   "metadata": {},
   "outputs": [
    {
     "data": {
      "text/html": [
       "<div>\n",
       "<style scoped>\n",
       "    .dataframe tbody tr th:only-of-type {\n",
       "        vertical-align: middle;\n",
       "    }\n",
       "\n",
       "    .dataframe tbody tr th {\n",
       "        vertical-align: top;\n",
       "    }\n",
       "\n",
       "    .dataframe thead th {\n",
       "        text-align: right;\n",
       "    }\n",
       "</style>\n",
       "<table border=\"1\" class=\"dataframe\">\n",
       "  <thead>\n",
       "    <tr style=\"text-align: right;\">\n",
       "      <th></th>\n",
       "      <th>Date</th>\n",
       "      <th>crude_rate</th>\n",
       "    </tr>\n",
       "  </thead>\n",
       "  <tbody>\n",
       "    <tr>\n",
       "      <th>0</th>\n",
       "      <td>1983-03-30</td>\n",
       "      <td>29.27</td>\n",
       "    </tr>\n",
       "    <tr>\n",
       "      <th>1</th>\n",
       "      <td>1983-04-04</td>\n",
       "      <td>30.63</td>\n",
       "    </tr>\n",
       "    <tr>\n",
       "      <th>2</th>\n",
       "      <td>1983-05-02</td>\n",
       "      <td>30.25</td>\n",
       "    </tr>\n",
       "    <tr>\n",
       "      <th>3</th>\n",
       "      <td>1983-06-01</td>\n",
       "      <td>31.38</td>\n",
       "    </tr>\n",
       "    <tr>\n",
       "      <th>4</th>\n",
       "      <td>1983-07-01</td>\n",
       "      <td>32.00</td>\n",
       "    </tr>\n",
       "  </tbody>\n",
       "</table>\n",
       "</div>"
      ],
      "text/plain": [
       "        Date  crude_rate\n",
       "0 1983-03-30       29.27\n",
       "1 1983-04-04       30.63\n",
       "2 1983-05-02       30.25\n",
       "3 1983-06-01       31.38\n",
       "4 1983-07-01       32.00"
      ]
     },
     "execution_count": 124,
     "metadata": {},
     "output_type": "execute_result"
    }
   ],
   "source": [
    "crude.head()"
   ]
  },
  {
   "cell_type": "code",
   "execution_count": 125,
   "id": "ea151516",
   "metadata": {},
   "outputs": [],
   "source": [
    "crude_merge = pd.merge(left=crude, right=usd, on='Date')"
   ]
  },
  {
   "cell_type": "code",
   "execution_count": 126,
   "id": "1464dd9a",
   "metadata": {},
   "outputs": [
    {
     "data": {
      "text/html": [
       "<div>\n",
       "<style scoped>\n",
       "    .dataframe tbody tr th:only-of-type {\n",
       "        vertical-align: middle;\n",
       "    }\n",
       "\n",
       "    .dataframe tbody tr th {\n",
       "        vertical-align: top;\n",
       "    }\n",
       "\n",
       "    .dataframe thead th {\n",
       "        text-align: right;\n",
       "    }\n",
       "</style>\n",
       "<table border=\"1\" class=\"dataframe\">\n",
       "  <thead>\n",
       "    <tr style=\"text-align: right;\">\n",
       "      <th></th>\n",
       "      <th>Date</th>\n",
       "      <th>crude_rate</th>\n",
       "      <th>usd_rate</th>\n",
       "      <th>Month</th>\n",
       "    </tr>\n",
       "  </thead>\n",
       "  <tbody>\n",
       "    <tr>\n",
       "      <th>0</th>\n",
       "      <td>1998-09-01</td>\n",
       "      <td>16.14</td>\n",
       "      <td>42.5206</td>\n",
       "      <td>1998-09-01</td>\n",
       "    </tr>\n",
       "    <tr>\n",
       "      <th>1</th>\n",
       "      <td>1998-11-02</td>\n",
       "      <td>11.22</td>\n",
       "      <td>42.2994</td>\n",
       "      <td>1998-11-01</td>\n",
       "    </tr>\n",
       "    <tr>\n",
       "      <th>2</th>\n",
       "      <td>1998-12-01</td>\n",
       "      <td>12.05</td>\n",
       "      <td>42.5804</td>\n",
       "      <td>1998-12-01</td>\n",
       "    </tr>\n",
       "    <tr>\n",
       "      <th>3</th>\n",
       "      <td>1999-01-04</td>\n",
       "      <td>12.75</td>\n",
       "      <td>42.5098</td>\n",
       "      <td>1999-01-01</td>\n",
       "    </tr>\n",
       "    <tr>\n",
       "      <th>4</th>\n",
       "      <td>1999-02-01</td>\n",
       "      <td>12.27</td>\n",
       "      <td>42.5007</td>\n",
       "      <td>1999-02-01</td>\n",
       "    </tr>\n",
       "  </tbody>\n",
       "</table>\n",
       "</div>"
      ],
      "text/plain": [
       "        Date  crude_rate  usd_rate      Month\n",
       "0 1998-09-01       16.14   42.5206 1998-09-01\n",
       "1 1998-11-02       11.22   42.2994 1998-11-01\n",
       "2 1998-12-01       12.05   42.5804 1998-12-01\n",
       "3 1999-01-04       12.75   42.5098 1999-01-01\n",
       "4 1999-02-01       12.27   42.5007 1999-02-01"
      ]
     },
     "execution_count": 126,
     "metadata": {},
     "output_type": "execute_result"
    }
   ],
   "source": [
    "crude_merge.head()"
   ]
  },
  {
   "cell_type": "code",
   "execution_count": 127,
   "id": "8fcea969",
   "metadata": {},
   "outputs": [],
   "source": [
    "crude_merge['crude_rate'] = crude_merge['crude_rate']*crude_merge['usd_rate']"
   ]
  },
  {
   "cell_type": "code",
   "execution_count": 128,
   "id": "c99ab4e2",
   "metadata": {},
   "outputs": [],
   "source": [
    "crude_merge.drop('usd_rate', axis=1, inplace=True)\n",
    "crude = crude_merge"
   ]
  },
  {
   "cell_type": "code",
   "execution_count": 129,
   "id": "fa0b78a5",
   "metadata": {},
   "outputs": [
    {
     "data": {
      "text/html": [
       "<div>\n",
       "<style scoped>\n",
       "    .dataframe tbody tr th:only-of-type {\n",
       "        vertical-align: middle;\n",
       "    }\n",
       "\n",
       "    .dataframe tbody tr th {\n",
       "        vertical-align: top;\n",
       "    }\n",
       "\n",
       "    .dataframe thead th {\n",
       "        text-align: right;\n",
       "    }\n",
       "</style>\n",
       "<table border=\"1\" class=\"dataframe\">\n",
       "  <thead>\n",
       "    <tr style=\"text-align: right;\">\n",
       "      <th></th>\n",
       "      <th>Date</th>\n",
       "      <th>crude_rate</th>\n",
       "      <th>Month</th>\n",
       "    </tr>\n",
       "  </thead>\n",
       "  <tbody>\n",
       "    <tr>\n",
       "      <th>0</th>\n",
       "      <td>1998-09-01</td>\n",
       "      <td>686.282484</td>\n",
       "      <td>1998-09-01</td>\n",
       "    </tr>\n",
       "    <tr>\n",
       "      <th>1</th>\n",
       "      <td>1998-11-02</td>\n",
       "      <td>474.599268</td>\n",
       "      <td>1998-11-01</td>\n",
       "    </tr>\n",
       "    <tr>\n",
       "      <th>2</th>\n",
       "      <td>1998-12-01</td>\n",
       "      <td>513.093820</td>\n",
       "      <td>1998-12-01</td>\n",
       "    </tr>\n",
       "    <tr>\n",
       "      <th>3</th>\n",
       "      <td>1999-01-04</td>\n",
       "      <td>541.999950</td>\n",
       "      <td>1999-01-01</td>\n",
       "    </tr>\n",
       "    <tr>\n",
       "      <th>4</th>\n",
       "      <td>1999-02-01</td>\n",
       "      <td>521.483589</td>\n",
       "      <td>1999-02-01</td>\n",
       "    </tr>\n",
       "  </tbody>\n",
       "</table>\n",
       "</div>"
      ],
      "text/plain": [
       "        Date  crude_rate      Month\n",
       "0 1998-09-01  686.282484 1998-09-01\n",
       "1 1998-11-02  474.599268 1998-11-01\n",
       "2 1998-12-01  513.093820 1998-12-01\n",
       "3 1999-01-04  541.999950 1999-01-01\n",
       "4 1999-02-01  521.483589 1999-02-01"
      ]
     },
     "execution_count": 129,
     "metadata": {},
     "output_type": "execute_result"
    }
   ],
   "source": [
    "crude.head()"
   ]
  },
  {
   "cell_type": "code",
   "execution_count": 130,
   "id": "0cd6a1e0",
   "metadata": {},
   "outputs": [],
   "source": [
    "crude_month = crude.groupby(by='Month', as_index=False).mean()"
   ]
  },
  {
   "cell_type": "code",
   "execution_count": 132,
   "id": "9e30c01e",
   "metadata": {},
   "outputs": [],
   "source": [
    "crude_month['crude_rate'] = round(crude_month['crude_rate'], 2)"
   ]
  },
  {
   "cell_type": "code",
   "execution_count": 133,
   "id": "66103a8a",
   "metadata": {},
   "outputs": [
    {
     "data": {
      "text/html": [
       "<div>\n",
       "<style scoped>\n",
       "    .dataframe tbody tr th:only-of-type {\n",
       "        vertical-align: middle;\n",
       "    }\n",
       "\n",
       "    .dataframe tbody tr th {\n",
       "        vertical-align: top;\n",
       "    }\n",
       "\n",
       "    .dataframe thead th {\n",
       "        text-align: right;\n",
       "    }\n",
       "</style>\n",
       "<table border=\"1\" class=\"dataframe\">\n",
       "  <thead>\n",
       "    <tr style=\"text-align: right;\">\n",
       "      <th></th>\n",
       "      <th>Month</th>\n",
       "      <th>crude_rate</th>\n",
       "    </tr>\n",
       "  </thead>\n",
       "  <tbody>\n",
       "    <tr>\n",
       "      <th>0</th>\n",
       "      <td>1998-09-01</td>\n",
       "      <td>686.28</td>\n",
       "    </tr>\n",
       "    <tr>\n",
       "      <th>1</th>\n",
       "      <td>1998-11-01</td>\n",
       "      <td>474.60</td>\n",
       "    </tr>\n",
       "    <tr>\n",
       "      <th>2</th>\n",
       "      <td>1998-12-01</td>\n",
       "      <td>513.09</td>\n",
       "    </tr>\n",
       "    <tr>\n",
       "      <th>3</th>\n",
       "      <td>1999-01-01</td>\n",
       "      <td>542.00</td>\n",
       "    </tr>\n",
       "    <tr>\n",
       "      <th>4</th>\n",
       "      <td>1999-02-01</td>\n",
       "      <td>521.48</td>\n",
       "    </tr>\n",
       "  </tbody>\n",
       "</table>\n",
       "</div>"
      ],
      "text/plain": [
       "       Month  crude_rate\n",
       "0 1998-09-01      686.28\n",
       "1 1998-11-01      474.60\n",
       "2 1998-12-01      513.09\n",
       "3 1999-01-01      542.00\n",
       "4 1999-02-01      521.48"
      ]
     },
     "execution_count": 133,
     "metadata": {},
     "output_type": "execute_result"
    }
   ],
   "source": [
    "crude_month.head()"
   ]
  },
  {
   "cell_type": "markdown",
   "id": "f2d5bc44",
   "metadata": {},
   "source": [
    "# Merge all three"
   ]
  },
  {
   "cell_type": "code",
   "execution_count": 135,
   "id": "5b4d4ce0",
   "metadata": {},
   "outputs": [],
   "source": [
    "temp = pd.merge(left=gold_month, right=crude_month, on= 'Month')"
   ]
  },
  {
   "cell_type": "code",
   "execution_count": 137,
   "id": "dff94fe6",
   "metadata": {},
   "outputs": [],
   "source": [
    "fdata = pd.merge(left=temp, right=usd_month, on='Month')"
   ]
  },
  {
   "cell_type": "code",
   "execution_count": 140,
   "id": "bf0397ac",
   "metadata": {},
   "outputs": [],
   "source": [
    "fdata.sort_values(by='Month', inplace=True)"
   ]
  },
  {
   "cell_type": "code",
   "execution_count": 143,
   "id": "cd0b14d1",
   "metadata": {},
   "outputs": [
    {
     "data": {
      "text/html": [
       "<div>\n",
       "<style scoped>\n",
       "    .dataframe tbody tr th:only-of-type {\n",
       "        vertical-align: middle;\n",
       "    }\n",
       "\n",
       "    .dataframe tbody tr th {\n",
       "        vertical-align: top;\n",
       "    }\n",
       "\n",
       "    .dataframe thead th {\n",
       "        text-align: right;\n",
       "    }\n",
       "</style>\n",
       "<table border=\"1\" class=\"dataframe\">\n",
       "  <thead>\n",
       "    <tr style=\"text-align: right;\">\n",
       "      <th></th>\n",
       "      <th>Month</th>\n",
       "      <th>gold_rate</th>\n",
       "      <th>crude_rate</th>\n",
       "      <th>usd_rate</th>\n",
       "    </tr>\n",
       "  </thead>\n",
       "  <tbody>\n",
       "    <tr>\n",
       "      <th>0</th>\n",
       "      <td>1998-09-01</td>\n",
       "      <td>395.02</td>\n",
       "      <td>686.28</td>\n",
       "      <td>42.52</td>\n",
       "    </tr>\n",
       "    <tr>\n",
       "      <th>1</th>\n",
       "      <td>1998-11-01</td>\n",
       "      <td>400.81</td>\n",
       "      <td>474.60</td>\n",
       "      <td>42.38</td>\n",
       "    </tr>\n",
       "    <tr>\n",
       "      <th>2</th>\n",
       "      <td>1998-12-01</td>\n",
       "      <td>397.81</td>\n",
       "      <td>513.09</td>\n",
       "      <td>42.55</td>\n",
       "    </tr>\n",
       "    <tr>\n",
       "      <th>3</th>\n",
       "      <td>1999-01-01</td>\n",
       "      <td>392.50</td>\n",
       "      <td>542.00</td>\n",
       "      <td>42.51</td>\n",
       "    </tr>\n",
       "    <tr>\n",
       "      <th>4</th>\n",
       "      <td>1999-02-01</td>\n",
       "      <td>392.57</td>\n",
       "      <td>521.48</td>\n",
       "      <td>42.46</td>\n",
       "    </tr>\n",
       "  </tbody>\n",
       "</table>\n",
       "</div>"
      ],
      "text/plain": [
       "       Month  gold_rate  crude_rate  usd_rate\n",
       "0 1998-09-01     395.02      686.28     42.52\n",
       "1 1998-11-01     400.81      474.60     42.38\n",
       "2 1998-12-01     397.81      513.09     42.55\n",
       "3 1999-01-01     392.50      542.00     42.51\n",
       "4 1999-02-01     392.57      521.48     42.46"
      ]
     },
     "execution_count": 143,
     "metadata": {},
     "output_type": "execute_result"
    }
   ],
   "source": [
    "fdata.head()"
   ]
  },
  {
   "cell_type": "code",
   "execution_count": 144,
   "id": "1c80137b",
   "metadata": {},
   "outputs": [],
   "source": [
    "import matplotlib.pyplot as plt"
   ]
  },
  {
   "cell_type": "code",
   "execution_count": 148,
   "id": "209814ef",
   "metadata": {},
   "outputs": [],
   "source": [
    "plot1 = fdata.rename({'gold_rate':'gold_rate(x10)', 'crude_rate':'crude_rate(x10)'}, axis=1)"
   ]
  },
  {
   "cell_type": "code",
   "execution_count": 150,
   "id": "d93d6bef",
   "metadata": {},
   "outputs": [],
   "source": [
    "plot1['gold_rate(x10)'] = plot1['gold_rate(x10)']/10\n",
    "plot1['crude_rate(x10)'] = plot1['crude_rate(x10)']/10"
   ]
  },
  {
   "cell_type": "code",
   "execution_count": 151,
   "id": "d5d2ceb6",
   "metadata": {},
   "outputs": [
    {
     "data": {
      "text/html": [
       "<div>\n",
       "<style scoped>\n",
       "    .dataframe tbody tr th:only-of-type {\n",
       "        vertical-align: middle;\n",
       "    }\n",
       "\n",
       "    .dataframe tbody tr th {\n",
       "        vertical-align: top;\n",
       "    }\n",
       "\n",
       "    .dataframe thead th {\n",
       "        text-align: right;\n",
       "    }\n",
       "</style>\n",
       "<table border=\"1\" class=\"dataframe\">\n",
       "  <thead>\n",
       "    <tr style=\"text-align: right;\">\n",
       "      <th></th>\n",
       "      <th>Month</th>\n",
       "      <th>gold_rate(x10)</th>\n",
       "      <th>crude_rate(x10)</th>\n",
       "      <th>usd_rate</th>\n",
       "    </tr>\n",
       "  </thead>\n",
       "  <tbody>\n",
       "    <tr>\n",
       "      <th>0</th>\n",
       "      <td>1998-09-01</td>\n",
       "      <td>39.502</td>\n",
       "      <td>68.628</td>\n",
       "      <td>42.52</td>\n",
       "    </tr>\n",
       "    <tr>\n",
       "      <th>1</th>\n",
       "      <td>1998-11-01</td>\n",
       "      <td>40.081</td>\n",
       "      <td>47.460</td>\n",
       "      <td>42.38</td>\n",
       "    </tr>\n",
       "    <tr>\n",
       "      <th>2</th>\n",
       "      <td>1998-12-01</td>\n",
       "      <td>39.781</td>\n",
       "      <td>51.309</td>\n",
       "      <td>42.55</td>\n",
       "    </tr>\n",
       "    <tr>\n",
       "      <th>3</th>\n",
       "      <td>1999-01-01</td>\n",
       "      <td>39.250</td>\n",
       "      <td>54.200</td>\n",
       "      <td>42.51</td>\n",
       "    </tr>\n",
       "    <tr>\n",
       "      <th>4</th>\n",
       "      <td>1999-02-01</td>\n",
       "      <td>39.257</td>\n",
       "      <td>52.148</td>\n",
       "      <td>42.46</td>\n",
       "    </tr>\n",
       "  </tbody>\n",
       "</table>\n",
       "</div>"
      ],
      "text/plain": [
       "       Month  gold_rate(x10)  crude_rate(x10)  usd_rate\n",
       "0 1998-09-01          39.502           68.628     42.52\n",
       "1 1998-11-01          40.081           47.460     42.38\n",
       "2 1998-12-01          39.781           51.309     42.55\n",
       "3 1999-01-01          39.250           54.200     42.51\n",
       "4 1999-02-01          39.257           52.148     42.46"
      ]
     },
     "execution_count": 151,
     "metadata": {},
     "output_type": "execute_result"
    }
   ],
   "source": [
    "plot1.head()"
   ]
  },
  {
   "cell_type": "code",
   "execution_count": 160,
   "id": "70394144",
   "metadata": {},
   "outputs": [
    {
     "data": {
      "image/png": "[encoded data removed]",
      "text/plain": [
       "<Figure size 1440x1080 with 1 Axes>"
      ]
     },
     "metadata": {
      "needs_background": "light"
     },
     "output_type": "display_data"
    }
   ],
   "source": [
    "plt.figure(figsize=(20, 15))\n",
    "plt.plot('Month', 'gold_rate(x10)', data=plot1, color='red')\n",
    "plt.plot('Month', 'crude_rate(x10)', data=plot1, color='blue')\n",
    "plt.plot('Month', 'usd_rate', data=plot1, color='green')\n",
    "plt.show()"
   ]
  },
  {
   "cell_type": "markdown",
   "id": "3b3f6c36",
   "metadata": {},
   "source": [
    "# corelation"
   ]
  },
  {
   "cell_type": "code",
   "execution_count": 161,
   "id": "3d6ea278",
   "metadata": {},
   "outputs": [
    {
     "data": {
      "text/html": [
       "<div>\n",
       "<style scoped>\n",
       "    .dataframe tbody tr th:only-of-type {\n",
       "        vertical-align: middle;\n",
       "    }\n",
       "\n",
       "    .dataframe tbody tr th {\n",
       "        vertical-align: top;\n",
       "    }\n",
       "\n",
       "    .dataframe thead th {\n",
       "        text-align: right;\n",
       "    }\n",
       "</style>\n",
       "<table border=\"1\" class=\"dataframe\">\n",
       "  <thead>\n",
       "    <tr style=\"text-align: right;\">\n",
       "      <th></th>\n",
       "      <th>gold_rate</th>\n",
       "      <th>crude_rate</th>\n",
       "      <th>usd_rate</th>\n",
       "    </tr>\n",
       "  </thead>\n",
       "  <tbody>\n",
       "    <tr>\n",
       "      <th>gold_rate</th>\n",
       "      <td>1.000000</td>\n",
       "      <td>0.711616</td>\n",
       "      <td>0.882414</td>\n",
       "    </tr>\n",
       "    <tr>\n",
       "      <th>crude_rate</th>\n",
       "      <td>0.711616</td>\n",
       "      <td>1.000000</td>\n",
       "      <td>0.486421</td>\n",
       "    </tr>\n",
       "    <tr>\n",
       "      <th>usd_rate</th>\n",
       "      <td>0.882414</td>\n",
       "      <td>0.486421</td>\n",
       "      <td>1.000000</td>\n",
       "    </tr>\n",
       "  </tbody>\n",
       "</table>\n",
       "</div>"
      ],
      "text/plain": [
       "            gold_rate  crude_rate  usd_rate\n",
       "gold_rate    1.000000    0.711616  0.882414\n",
       "crude_rate   0.711616    1.000000  0.486421\n",
       "usd_rate     0.882414    0.486421  1.000000"
      ]
     },
     "execution_count": 161,
     "metadata": {},
     "output_type": "execute_result"
    }
   ],
   "source": [
    "fdata.corr()"
   ]
  },
  {
   "cell_type": "code",
   "execution_count": 162,
   "id": "6a0cd9ea",
   "metadata": {},
   "outputs": [],
   "source": [
    "import seaborn as sns"
   ]
  },
  {
   "cell_type": "code",
   "execution_count": 171,
   "id": "a7629d81",
   "metadata": {},
   "outputs": [
    {
     "data": {
      "image/png": "[encoded data removed]",
      "text/plain": [
       "<Figure size 576x432 with 2 Axes>"
      ]
     },
     "metadata": {
      "needs_background": "light"
     },
     "output_type": "display_data"
    }
   ],
   "source": [
    "plt.figure(figsize=(8, 6))\n",
    "sns.heatmap(fdata.corr(), annot=True, cmap='YlGnBu')\n",
    "plt.show()"
   ]
  },
  {
   "cell_type": "markdown",
   "id": "4c72d383",
   "metadata": {},
   "source": [
    "1. There is high positive correlation between Gold price and USD price of 0.88.\n",
    "2. There is high positive correlation between Gold price and Curde oil price of 0.71.\n",
    "3. There is very low correlation between Crude oil price and USD rate."
   ]
  },
  {
   "cell_type": "markdown",
   "id": "5df19709",
   "metadata": {},
   "source": [
    "check 2 for its validity"
   ]
  },
  {
   "cell_type": "code",
   "execution_count": null,
   "id": "197977cf",
   "metadata": {},
   "outputs": [],
   "source": []
  }
 ],
 "metadata": {
  "kernelspec": {
   "display_name": "Python 3 (ipykernel)",
   "language": "python",
   "name": "python3"
  },
  "language_info": {
   "codemirror_mode": {
    "name": "ipython",
    "version": 3
   },
   "file_extension": ".py",
   "mimetype": "text/x-python",
   "name": "python",
   "nbconvert_exporter": "python",
   "pygments_lexer": "ipython3",
   "version": "3.9.12"
  }
 },
 "nbformat": 4,
 "nbformat_minor": 5
}
