{
 "cells": [
  {
   "cell_type": "code",
   "execution_count": 23,
   "id": "cdeb3dc5",
   "metadata": {},
   "outputs": [],
   "source": [
    "import json\n",
    "import requests\n",
    "import pandas as pd"
   ]
  },
  {
   "cell_type": "code",
   "execution_count": 24,
   "id": "1c124f3b",
   "metadata": {},
   "outputs": [],
   "source": [
    "apikey = 'SoGltsYnmN6ufcvwcN1JzxDztfu15mcZ'"
   ]
  },
  {
   "cell_type": "code",
   "execution_count": 25,
   "id": "47e15686",
   "metadata": {},
   "outputs": [],
   "source": [
    "start = 2000\n",
    "end = 2022"
   ]
  },
  {
   "cell_type": "code",
   "execution_count": 26,
   "id": "88375a3a",
   "metadata": {},
   "outputs": [],
   "source": [
    "result = []"
   ]
  },
  {
   "cell_type": "code",
   "execution_count": 27,
   "id": "b7b71159",
   "metadata": {},
   "outputs": [],
   "source": [
    "while start <= end:\n",
    "    url = \"https://api.apilayer.com/exchangerates_data/timeseries?start_date=\"+str(start)+\"-01-01&end_date=\"+str(start)+\"-12-31&base=USD&symbols=INR\"\n",
    "    \n",
    "    payload = {}\n",
    "    headers= {\n",
    "      \"apikey\": apikey\n",
    "    }\n",
    "    \n",
    "    response = requests.request(\"GET\", url, headers=headers, data = payload)\n",
    "    \n",
    "    status_code = response.status_code\n",
    "    result.append(response.json())\n",
    "    start = start + 1"
   ]
  },
  {
   "cell_type": "code",
   "execution_count": 67,
   "id": "97b39de5",
   "metadata": {},
   "outputs": [],
   "source": [
    "dates =[]\n",
    "inr_rate = []\n",
    "for r in result:\n",
    "    x = r['rates']\n",
    "    for key in x.keys():\n",
    "        dates.append(key)\n",
    "        rate = x[key]['INR']\n",
    "        inr_rate.append(rate)"
   ]
  },
  {
   "cell_type": "code",
   "execution_count": 68,
   "id": "846c3be5",
   "metadata": {},
   "outputs": [],
   "source": [
    "inr_dict = {'Date': dates, 'Rate': inr_rate}\n",
    "usd_inr = pd.DataFrame(inr_dict)"
   ]
  },
  {
   "cell_type": "code",
   "execution_count": 69,
   "id": "d9c8d75a",
   "metadata": {},
   "outputs": [
    {
     "data": {
      "text/html": [
       "<div>\n",
       "<style scoped>\n",
       "    .dataframe tbody tr th:only-of-type {\n",
       "        vertical-align: middle;\n",
       "    }\n",
       "\n",
       "    .dataframe tbody tr th {\n",
       "        vertical-align: top;\n",
       "    }\n",
       "\n",
       "    .dataframe thead th {\n",
       "        text-align: right;\n",
       "    }\n",
       "</style>\n",
       "<table border=\"1\" class=\"dataframe\">\n",
       "  <thead>\n",
       "    <tr style=\"text-align: right;\">\n",
       "      <th></th>\n",
       "      <th>Date</th>\n",
       "      <th>Rate</th>\n",
       "    </tr>\n",
       "  </thead>\n",
       "  <tbody>\n",
       "    <tr>\n",
       "      <th>0</th>\n",
       "      <td>2000-01-01</td>\n",
       "      <td>43.494130</td>\n",
       "    </tr>\n",
       "    <tr>\n",
       "      <th>1</th>\n",
       "      <td>2000-01-02</td>\n",
       "      <td>43.494130</td>\n",
       "    </tr>\n",
       "    <tr>\n",
       "      <th>2</th>\n",
       "      <td>2000-01-03</td>\n",
       "      <td>43.532065</td>\n",
       "    </tr>\n",
       "    <tr>\n",
       "      <th>3</th>\n",
       "      <td>2000-01-04</td>\n",
       "      <td>43.532065</td>\n",
       "    </tr>\n",
       "    <tr>\n",
       "      <th>4</th>\n",
       "      <td>2000-01-05</td>\n",
       "      <td>43.532065</td>\n",
       "    </tr>\n",
       "  </tbody>\n",
       "</table>\n",
       "</div>"
      ],
      "text/plain": [
       "         Date       Rate\n",
       "0  2000-01-01  43.494130\n",
       "1  2000-01-02  43.494130\n",
       "2  2000-01-03  43.532065\n",
       "3  2000-01-04  43.532065\n",
       "4  2000-01-05  43.532065"
      ]
     },
     "execution_count": 69,
     "metadata": {},
     "output_type": "execute_result"
    }
   ],
   "source": [
    "usd_inr.head()"
   ]
  },
  {
   "cell_type": "code",
   "execution_count": 70,
   "id": "051c23c9",
   "metadata": {},
   "outputs": [],
   "source": [
    "usd_inr.to_csv('usd_to_inr.csv', index=False)"
   ]
  },
  {
   "cell_type": "markdown",
   "id": "6a99fd31",
   "metadata": {},
   "source": [
    "# Check the data from RBI"
   ]
  },
  {
   "cell_type": "code",
   "execution_count": 33,
   "id": "82467d6f",
   "metadata": {},
   "outputs": [
    {
     "name": "stderr",
     "output_type": "stream",
     "text": [
      "C:\\Users\\shiva\\anaconda3\\lib\\site-packages\\openpyxl\\styles\\stylesheet.py:226: UserWarning: Workbook contains no default style, apply openpyxl's default\n",
      "  warn(\"Workbook contains no default style, apply openpyxl's default\")\n"
     ]
    }
   ],
   "source": [
    "rbi = pd.read_excel('Daily_Exchange_Rate_of_the_Indian_Rupee.xlsx', header=4, dtype='object')"
   ]
  },
  {
   "cell_type": "code",
   "execution_count": 34,
   "id": "38a22e7a",
   "metadata": {},
   "outputs": [
    {
     "data": {
      "text/html": [
       "<div>\n",
       "<style scoped>\n",
       "    .dataframe tbody tr th:only-of-type {\n",
       "        vertical-align: middle;\n",
       "    }\n",
       "\n",
       "    .dataframe tbody tr th {\n",
       "        vertical-align: top;\n",
       "    }\n",
       "\n",
       "    .dataframe thead th {\n",
       "        text-align: right;\n",
       "    }\n",
       "</style>\n",
       "<table border=\"1\" class=\"dataframe\">\n",
       "  <thead>\n",
       "    <tr style=\"text-align: right;\">\n",
       "      <th></th>\n",
       "      <th>Unnamed: 0</th>\n",
       "      <th>Date</th>\n",
       "      <th>US Dollar</th>\n",
       "      <th>Pound Sterling</th>\n",
       "      <th>Euro</th>\n",
       "      <th>Japanese Yen</th>\n",
       "    </tr>\n",
       "  </thead>\n",
       "  <tbody>\n",
       "    <tr>\n",
       "      <th>0</th>\n",
       "      <td>NaN</td>\n",
       "      <td>2022-06-27 00:00:00</td>\n",
       "      <td>78.289</td>\n",
       "      <td>96.0784</td>\n",
       "      <td>82.6706</td>\n",
       "      <td>57.95</td>\n",
       "    </tr>\n",
       "    <tr>\n",
       "      <th>1</th>\n",
       "      <td>NaN</td>\n",
       "      <td>2022-06-24 00:00:00</td>\n",
       "      <td>78.3308</td>\n",
       "      <td>96.1286</td>\n",
       "      <td>82.5633</td>\n",
       "      <td>58.12</td>\n",
       "    </tr>\n",
       "    <tr>\n",
       "      <th>2</th>\n",
       "      <td>NaN</td>\n",
       "      <td>2022-06-23 00:00:00</td>\n",
       "      <td>78.2662</td>\n",
       "      <td>95.8453</td>\n",
       "      <td>82.6872</td>\n",
       "      <td>57.63</td>\n",
       "    </tr>\n",
       "    <tr>\n",
       "      <th>3</th>\n",
       "      <td>NaN</td>\n",
       "      <td>2022-06-22 00:00:00</td>\n",
       "      <td>78.2115</td>\n",
       "      <td>95.6657</td>\n",
       "      <td>82.0981</td>\n",
       "      <td>57.34</td>\n",
       "    </tr>\n",
       "    <tr>\n",
       "      <th>4</th>\n",
       "      <td>NaN</td>\n",
       "      <td>2022-06-21 00:00:00</td>\n",
       "      <td>78.0861</td>\n",
       "      <td>95.6784</td>\n",
       "      <td>82.1289</td>\n",
       "      <td>57.8</td>\n",
       "    </tr>\n",
       "    <tr>\n",
       "      <th>...</th>\n",
       "      <td>...</td>\n",
       "      <td>...</td>\n",
       "      <td>...</td>\n",
       "      <td>...</td>\n",
       "      <td>...</td>\n",
       "      <td>...</td>\n",
       "    </tr>\n",
       "    <tr>\n",
       "      <th>5762</th>\n",
       "      <td>NaN</td>\n",
       "      <td>1998-08-28 00:00:00</td>\n",
       "      <td>42.5405</td>\n",
       "      <td>70.5965</td>\n",
       "      <td>-</td>\n",
       "      <td>29.8151</td>\n",
       "    </tr>\n",
       "    <tr>\n",
       "      <th>5763</th>\n",
       "      <td>NaN</td>\n",
       "      <td>1998-08-27 00:00:00</td>\n",
       "      <td>42.5297</td>\n",
       "      <td>69.7788</td>\n",
       "      <td>-</td>\n",
       "      <td>29.6191</td>\n",
       "    </tr>\n",
       "    <tr>\n",
       "      <th>5764</th>\n",
       "      <td>NaN</td>\n",
       "      <td>1998-08-25 00:00:00</td>\n",
       "      <td>42.5007</td>\n",
       "      <td>69.5749</td>\n",
       "      <td>-</td>\n",
       "      <td>29.4681</td>\n",
       "    </tr>\n",
       "    <tr>\n",
       "      <th>5765</th>\n",
       "      <td>NaN</td>\n",
       "      <td>NaN</td>\n",
       "      <td>NaN</td>\n",
       "      <td>NaN</td>\n",
       "      <td>NaN</td>\n",
       "      <td>NaN</td>\n",
       "    </tr>\n",
       "    <tr>\n",
       "      <th>5766</th>\n",
       "      <td>NaN</td>\n",
       "      <td>Notes  : 1) The exchange rate for Japanese Yen...</td>\n",
       "      <td>NaN</td>\n",
       "      <td>NaN</td>\n",
       "      <td>NaN</td>\n",
       "      <td>NaN</td>\n",
       "    </tr>\n",
       "  </tbody>\n",
       "</table>\n",
       "<p>5767 rows × 6 columns</p>\n",
       "</div>"
      ],
      "text/plain": [
       "     Unnamed: 0                                               Date US Dollar  \\\n",
       "0           NaN                                2022-06-27 00:00:00    78.289   \n",
       "1           NaN                                2022-06-24 00:00:00   78.3308   \n",
       "2           NaN                                2022-06-23 00:00:00   78.2662   \n",
       "3           NaN                                2022-06-22 00:00:00   78.2115   \n",
       "4           NaN                                2022-06-21 00:00:00   78.0861   \n",
       "...         ...                                                ...       ...   \n",
       "5762        NaN                                1998-08-28 00:00:00   42.5405   \n",
       "5763        NaN                                1998-08-27 00:00:00   42.5297   \n",
       "5764        NaN                                1998-08-25 00:00:00   42.5007   \n",
       "5765        NaN                                                NaN       NaN   \n",
       "5766        NaN  Notes  : 1) The exchange rate for Japanese Yen...       NaN   \n",
       "\n",
       "     Pound Sterling     Euro Japanese Yen  \n",
       "0           96.0784  82.6706        57.95  \n",
       "1           96.1286  82.5633        58.12  \n",
       "2           95.8453  82.6872        57.63  \n",
       "3           95.6657  82.0981        57.34  \n",
       "4           95.6784  82.1289         57.8  \n",
       "...             ...      ...          ...  \n",
       "5762        70.5965        -      29.8151  \n",
       "5763        69.7788        -      29.6191  \n",
       "5764        69.5749        -      29.4681  \n",
       "5765            NaN      NaN          NaN  \n",
       "5766            NaN      NaN          NaN  \n",
       "\n",
       "[5767 rows x 6 columns]"
      ]
     },
     "execution_count": 34,
     "metadata": {},
     "output_type": "execute_result"
    }
   ],
   "source": [
    "rbi"
   ]
  },
  {
   "cell_type": "code",
   "execution_count": 35,
   "id": "ca27876a",
   "metadata": {},
   "outputs": [],
   "source": [
    "rbi.drop('Unnamed: 0', axis = 1, inplace=True)"
   ]
  },
  {
   "cell_type": "code",
   "execution_count": 38,
   "id": "dc16fb57",
   "metadata": {},
   "outputs": [],
   "source": [
    "rbi.dropna(inplace=True)"
   ]
  },
  {
   "cell_type": "code",
   "execution_count": 41,
   "id": "73b00d77",
   "metadata": {},
   "outputs": [],
   "source": [
    "rbi.drop(['Pound Sterling','Euro','Japanese Yen'], axis=1, inplace=True)"
   ]
  },
  {
   "cell_type": "code",
   "execution_count": 44,
   "id": "6f46b7ca",
   "metadata": {},
   "outputs": [],
   "source": [
    "rbi['Date'] = pd.to_datetime(rbi['Date'])"
   ]
  },
  {
   "cell_type": "code",
   "execution_count": 48,
   "id": "36e56ed3",
   "metadata": {},
   "outputs": [],
   "source": [
    "rbi.rename({'US Dollar':'Rate'}, axis=1, inplace=True)"
   ]
  },
  {
   "cell_type": "code",
   "execution_count": 52,
   "id": "e74879c5",
   "metadata": {},
   "outputs": [],
   "source": [
    "rbi['Rate'] = pd.to_numeric(rbi['Rate'], errors='coerce')"
   ]
  },
  {
   "cell_type": "code",
   "execution_count": 62,
   "id": "c57b7d1a",
   "metadata": {},
   "outputs": [],
   "source": [
    "rbi = rbi[~rbi['Rate'].isna()]"
   ]
  },
  {
   "cell_type": "code",
   "execution_count": 64,
   "id": "c82b3db8",
   "metadata": {},
   "outputs": [],
   "source": [
    "rbi.to_csv('rbi_usd_to_inr.csv', index=False)"
   ]
  }
 ],
 "metadata": {
  "kernelspec": {
   "display_name": "Python 3 (ipykernel)",
   "language": "python",
   "name": "python3"
  },
  "language_info": {
   "codemirror_mode": {
    "name": "ipython",
    "version": 3
   },
   "file_extension": ".py",
   "mimetype": "text/x-python",
   "name": "python",
   "nbconvert_exporter": "python",
   "pygments_lexer": "ipython3",
   "version": "3.9.12"
  }
 },
 "nbformat": 4,
 "nbformat_minor": 5
}
