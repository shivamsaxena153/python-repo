{
 "cells": [
  {
   "cell_type": "code",
   "execution_count": 23,
   "id": "30b7b43a",
   "metadata": {},
   "outputs": [],
   "source": [
    "import pandas as pd\n",
    "from pandas.tseries.offsets import MonthBegin"
   ]
  },
  {
   "cell_type": "code",
   "execution_count": 14,
   "id": "02a9d8f5",
   "metadata": {},
   "outputs": [],
   "source": [
    "gold_file = 'daily_gold_rate.csv'\n",
    "crude_file = 'crude-oil-price.csv'\n",
    "usd_file = 'rbi_usd_inr_final.csv'"
   ]
  },
  {
   "cell_type": "code",
   "execution_count": 15,
   "id": "048ae50c",
   "metadata": {},
   "outputs": [],
   "source": [
    "def prepare_monthly_data(data2):\n",
    "    data2['Month'] = data2['Date'].apply(lambda x: MonthBegin(0).rollback(x))\n",
    "    g_data1 = data2.groupby(by='Month', as_index=False).mean()\n",
    "    g_data1['Rate'] = round(g_data1['Rate'], 2)\n",
    "    g_data1.rename({'Rate':'Month_Mean_Rate'}, axis=1, inplace=True)\n",
    "    merge_data = pd.merge(left=data2, right=g_data1, on='Month')\n",
    "    return merge_data"
   ]
  },
  {
   "cell_type": "markdown",
   "id": "8acd6c01",
   "metadata": {},
   "source": [
    "# Reading USD file"
   ]
  },
  {
   "cell_type": "code",
   "execution_count": 34,
   "id": "ef70ca2a",
   "metadata": {},
   "outputs": [],
   "source": [
    "usd = pd.read_csv(usd_file)"
   ]
  },
  {
   "cell_type": "code",
   "execution_count": null,
   "id": "6621c7a9",
   "metadata": {},
   "outputs": [],
   "source": []
  },
  {
   "cell_type": "code",
   "execution_count": null,
   "id": "635689e1",
   "metadata": {},
   "outputs": [],
   "source": []
  },
  {
   "cell_type": "markdown",
   "id": "8a8a77e7",
   "metadata": {},
   "source": [
    "# Reading Gold File"
   ]
  },
  {
   "cell_type": "code",
   "execution_count": 16,
   "id": "693e09a8",
   "metadata": {},
   "outputs": [],
   "source": [
    "gold_df = pd.read_csv(gold_file)"
   ]
  },
  {
   "cell_type": "code",
   "execution_count": 17,
   "id": "fa63bb9e",
   "metadata": {},
   "outputs": [
    {
     "name": "stdout",
     "output_type": "stream",
     "text": [
      "<class 'pandas.core.frame.DataFrame'>\n",
      "RangeIndex: 9774 entries, 0 to 9773\n",
      "Data columns (total 7 columns):\n",
      " #   Column  Non-Null Count  Dtype  \n",
      "---  ------  --------------  -----  \n",
      " 0   Date    9774 non-null   object \n",
      " 1   USD     9774 non-null   float64\n",
      " 2   EUR     9774 non-null   float64\n",
      " 3   GBP     9774 non-null   float64\n",
      " 4   INR     9774 non-null   float64\n",
      " 5   AED     9774 non-null   float64\n",
      " 6   CNY     9770 non-null   float64\n",
      "dtypes: float64(6), object(1)\n",
      "memory usage: 534.6+ KB\n"
     ]
    }
   ],
   "source": [
    "gold_df.info()"
   ]
  },
  {
   "cell_type": "code",
   "execution_count": 18,
   "id": "d4c29142",
   "metadata": {},
   "outputs": [
    {
     "data": {
      "text/html": [
       "<div>\n",
       "<style scoped>\n",
       "    .dataframe tbody tr th:only-of-type {\n",
       "        vertical-align: middle;\n",
       "    }\n",
       "\n",
       "    .dataframe tbody tr th {\n",
       "        vertical-align: top;\n",
       "    }\n",
       "\n",
       "    .dataframe thead th {\n",
       "        text-align: right;\n",
       "    }\n",
       "</style>\n",
       "<table border=\"1\" class=\"dataframe\">\n",
       "  <thead>\n",
       "    <tr style=\"text-align: right;\">\n",
       "      <th></th>\n",
       "      <th>Date</th>\n",
       "      <th>USD</th>\n",
       "      <th>EUR</th>\n",
       "      <th>GBP</th>\n",
       "      <th>INR</th>\n",
       "      <th>AED</th>\n",
       "      <th>CNY</th>\n",
       "    </tr>\n",
       "  </thead>\n",
       "  <tbody>\n",
       "    <tr>\n",
       "      <th>0</th>\n",
       "      <td>1985-01-01</td>\n",
       "      <td>308.30</td>\n",
       "      <td>402.45</td>\n",
       "      <td>266.01</td>\n",
       "      <td>3825.85</td>\n",
       "      <td>1134.42</td>\n",
       "      <td>NaN</td>\n",
       "    </tr>\n",
       "    <tr>\n",
       "      <th>1</th>\n",
       "      <td>1985-01-02</td>\n",
       "      <td>305.50</td>\n",
       "      <td>401.49</td>\n",
       "      <td>266.00</td>\n",
       "      <td>3787.05</td>\n",
       "      <td>1134.42</td>\n",
       "      <td>NaN</td>\n",
       "    </tr>\n",
       "    <tr>\n",
       "      <th>2</th>\n",
       "      <td>1985-01-03</td>\n",
       "      <td>302.30</td>\n",
       "      <td>397.08</td>\n",
       "      <td>262.76</td>\n",
       "      <td>3718.88</td>\n",
       "      <td>1107.67</td>\n",
       "      <td>NaN</td>\n",
       "    </tr>\n",
       "    <tr>\n",
       "      <th>3</th>\n",
       "      <td>1985-01-04</td>\n",
       "      <td>303.15</td>\n",
       "      <td>397.15</td>\n",
       "      <td>262.58</td>\n",
       "      <td>3759.64</td>\n",
       "      <td>1118.21</td>\n",
       "      <td>NaN</td>\n",
       "    </tr>\n",
       "    <tr>\n",
       "      <th>4</th>\n",
       "      <td>1985-01-07</td>\n",
       "      <td>298.25</td>\n",
       "      <td>392.55</td>\n",
       "      <td>261.17</td>\n",
       "      <td>3741.23</td>\n",
       "      <td>1091.58</td>\n",
       "      <td>835.8</td>\n",
       "    </tr>\n",
       "  </tbody>\n",
       "</table>\n",
       "</div>"
      ],
      "text/plain": [
       "         Date     USD     EUR     GBP      INR      AED    CNY\n",
       "0  1985-01-01  308.30  402.45  266.01  3825.85  1134.42    NaN\n",
       "1  1985-01-02  305.50  401.49  266.00  3787.05  1134.42    NaN\n",
       "2  1985-01-03  302.30  397.08  262.76  3718.88  1107.67    NaN\n",
       "3  1985-01-04  303.15  397.15  262.58  3759.64  1118.21    NaN\n",
       "4  1985-01-07  298.25  392.55  261.17  3741.23  1091.58  835.8"
      ]
     },
     "execution_count": 18,
     "metadata": {},
     "output_type": "execute_result"
    }
   ],
   "source": [
    "gold_df.head()"
   ]
  },
  {
   "cell_type": "code",
   "execution_count": 19,
   "id": "5ee47d09",
   "metadata": {},
   "outputs": [
    {
     "data": {
      "text/html": [
       "<div>\n",
       "<style scoped>\n",
       "    .dataframe tbody tr th:only-of-type {\n",
       "        vertical-align: middle;\n",
       "    }\n",
       "\n",
       "    .dataframe tbody tr th {\n",
       "        vertical-align: top;\n",
       "    }\n",
       "\n",
       "    .dataframe thead th {\n",
       "        text-align: right;\n",
       "    }\n",
       "</style>\n",
       "<table border=\"1\" class=\"dataframe\">\n",
       "  <thead>\n",
       "    <tr style=\"text-align: right;\">\n",
       "      <th></th>\n",
       "      <th>Date</th>\n",
       "      <th>INR</th>\n",
       "    </tr>\n",
       "  </thead>\n",
       "  <tbody>\n",
       "    <tr>\n",
       "      <th>0</th>\n",
       "      <td>1985-01-01</td>\n",
       "      <td>3825.85</td>\n",
       "    </tr>\n",
       "    <tr>\n",
       "      <th>1</th>\n",
       "      <td>1985-01-02</td>\n",
       "      <td>3787.05</td>\n",
       "    </tr>\n",
       "    <tr>\n",
       "      <th>2</th>\n",
       "      <td>1985-01-03</td>\n",
       "      <td>3718.88</td>\n",
       "    </tr>\n",
       "    <tr>\n",
       "      <th>3</th>\n",
       "      <td>1985-01-04</td>\n",
       "      <td>3759.64</td>\n",
       "    </tr>\n",
       "    <tr>\n",
       "      <th>4</th>\n",
       "      <td>1985-01-07</td>\n",
       "      <td>3741.23</td>\n",
       "    </tr>\n",
       "  </tbody>\n",
       "</table>\n",
       "</div>"
      ],
      "text/plain": [
       "         Date      INR\n",
       "0  1985-01-01  3825.85\n",
       "1  1985-01-02  3787.05\n",
       "2  1985-01-03  3718.88\n",
       "3  1985-01-04  3759.64\n",
       "4  1985-01-07  3741.23"
      ]
     },
     "execution_count": 19,
     "metadata": {},
     "output_type": "execute_result"
    }
   ],
   "source": [
    "gold_df = gold_df[['Date', 'INR']]\n",
    "gold_df.head()"
   ]
  },
  {
   "cell_type": "markdown",
   "id": "59fc3678",
   "metadata": {},
   "source": [
    "Daily gold rate from 1985 to Present per troy ounce in their national currency( 1 t oz = 31.1g). Cconeerting the rates to per grams"
   ]
  },
  {
   "cell_type": "code",
   "execution_count": 20,
   "id": "ac5002c5",
   "metadata": {},
   "outputs": [],
   "source": [
    "gold_df['INR'] = gold_df['INR']/31.1"
   ]
  },
  {
   "cell_type": "code",
   "execution_count": 21,
   "id": "2ccf6070",
   "metadata": {},
   "outputs": [
    {
     "data": {
      "text/html": [
       "<div>\n",
       "<style scoped>\n",
       "    .dataframe tbody tr th:only-of-type {\n",
       "        vertical-align: middle;\n",
       "    }\n",
       "\n",
       "    .dataframe tbody tr th {\n",
       "        vertical-align: top;\n",
       "    }\n",
       "\n",
       "    .dataframe thead th {\n",
       "        text-align: right;\n",
       "    }\n",
       "</style>\n",
       "<table border=\"1\" class=\"dataframe\">\n",
       "  <thead>\n",
       "    <tr style=\"text-align: right;\">\n",
       "      <th></th>\n",
       "      <th>Date</th>\n",
       "      <th>INR</th>\n",
       "    </tr>\n",
       "  </thead>\n",
       "  <tbody>\n",
       "    <tr>\n",
       "      <th>0</th>\n",
       "      <td>1985-01-01</td>\n",
       "      <td>123.017685</td>\n",
       "    </tr>\n",
       "    <tr>\n",
       "      <th>1</th>\n",
       "      <td>1985-01-02</td>\n",
       "      <td>121.770096</td>\n",
       "    </tr>\n",
       "    <tr>\n",
       "      <th>2</th>\n",
       "      <td>1985-01-03</td>\n",
       "      <td>119.578135</td>\n",
       "    </tr>\n",
       "    <tr>\n",
       "      <th>3</th>\n",
       "      <td>1985-01-04</td>\n",
       "      <td>120.888746</td>\n",
       "    </tr>\n",
       "    <tr>\n",
       "      <th>4</th>\n",
       "      <td>1985-01-07</td>\n",
       "      <td>120.296785</td>\n",
       "    </tr>\n",
       "  </tbody>\n",
       "</table>\n",
       "</div>"
      ],
      "text/plain": [
       "         Date         INR\n",
       "0  1985-01-01  123.017685\n",
       "1  1985-01-02  121.770096\n",
       "2  1985-01-03  119.578135\n",
       "3  1985-01-04  120.888746\n",
       "4  1985-01-07  120.296785"
      ]
     },
     "execution_count": 21,
     "metadata": {},
     "output_type": "execute_result"
    }
   ],
   "source": [
    "gold_df.head()"
   ]
  },
  {
   "cell_type": "code",
   "execution_count": 24,
   "id": "0054e604",
   "metadata": {},
   "outputs": [],
   "source": [
    "gold_df['Month'] = gold_df['Date'].apply(lambda x: MonthBegin(0).rollback(x))\n",
    "g_data1 = gold_df.groupby(by='Month', as_index=False).mean()"
   ]
  },
  {
   "cell_type": "code",
   "execution_count": 25,
   "id": "2df249b0",
   "metadata": {},
   "outputs": [
    {
     "data": {
      "text/html": [
       "<div>\n",
       "<style scoped>\n",
       "    .dataframe tbody tr th:only-of-type {\n",
       "        vertical-align: middle;\n",
       "    }\n",
       "\n",
       "    .dataframe tbody tr th {\n",
       "        vertical-align: top;\n",
       "    }\n",
       "\n",
       "    .dataframe thead th {\n",
       "        text-align: right;\n",
       "    }\n",
       "</style>\n",
       "<table border=\"1\" class=\"dataframe\">\n",
       "  <thead>\n",
       "    <tr style=\"text-align: right;\">\n",
       "      <th></th>\n",
       "      <th>Month</th>\n",
       "      <th>INR</th>\n",
       "    </tr>\n",
       "  </thead>\n",
       "  <tbody>\n",
       "    <tr>\n",
       "      <th>0</th>\n",
       "      <td>1985-01-01</td>\n",
       "      <td>122.631134</td>\n",
       "    </tr>\n",
       "    <tr>\n",
       "      <th>1</th>\n",
       "      <td>1985-02-01</td>\n",
       "      <td>124.423071</td>\n",
       "    </tr>\n",
       "    <tr>\n",
       "      <th>2</th>\n",
       "      <td>1985-03-01</td>\n",
       "      <td>124.005527</td>\n",
       "    </tr>\n",
       "    <tr>\n",
       "      <th>3</th>\n",
       "      <td>1985-04-01</td>\n",
       "      <td>128.665580</td>\n",
       "    </tr>\n",
       "    <tr>\n",
       "      <th>4</th>\n",
       "      <td>1985-05-01</td>\n",
       "      <td>125.993597</td>\n",
       "    </tr>\n",
       "  </tbody>\n",
       "</table>\n",
       "</div>"
      ],
      "text/plain": [
       "       Month         INR\n",
       "0 1985-01-01  122.631134\n",
       "1 1985-02-01  124.423071\n",
       "2 1985-03-01  124.005527\n",
       "3 1985-04-01  128.665580\n",
       "4 1985-05-01  125.993597"
      ]
     },
     "execution_count": 25,
     "metadata": {},
     "output_type": "execute_result"
    }
   ],
   "source": [
    "g_data1.head()"
   ]
  },
  {
   "cell_type": "code",
   "execution_count": 26,
   "id": "f5bea348",
   "metadata": {},
   "outputs": [],
   "source": [
    "g_data1['INR'] = round(g_data1['INR'], 2)\n",
    "g_data1.rename({'INR':'gold_rate'}, axis=1, inplace=True)"
   ]
  },
  {
   "cell_type": "code",
   "execution_count": 30,
   "id": "2ba0efb1",
   "metadata": {},
   "outputs": [],
   "source": [
    "g_data = g_data1"
   ]
  },
  {
   "cell_type": "code",
   "execution_count": 31,
   "id": "446fe78f",
   "metadata": {},
   "outputs": [
    {
     "data": {
      "text/html": [
       "<div>\n",
       "<style scoped>\n",
       "    .dataframe tbody tr th:only-of-type {\n",
       "        vertical-align: middle;\n",
       "    }\n",
       "\n",
       "    .dataframe tbody tr th {\n",
       "        vertical-align: top;\n",
       "    }\n",
       "\n",
       "    .dataframe thead th {\n",
       "        text-align: right;\n",
       "    }\n",
       "</style>\n",
       "<table border=\"1\" class=\"dataframe\">\n",
       "  <thead>\n",
       "    <tr style=\"text-align: right;\">\n",
       "      <th></th>\n",
       "      <th>Month</th>\n",
       "      <th>gold_rate</th>\n",
       "    </tr>\n",
       "  </thead>\n",
       "  <tbody>\n",
       "    <tr>\n",
       "      <th>0</th>\n",
       "      <td>1985-01-01</td>\n",
       "      <td>122.63</td>\n",
       "    </tr>\n",
       "    <tr>\n",
       "      <th>1</th>\n",
       "      <td>1985-02-01</td>\n",
       "      <td>124.42</td>\n",
       "    </tr>\n",
       "    <tr>\n",
       "      <th>2</th>\n",
       "      <td>1985-03-01</td>\n",
       "      <td>124.01</td>\n",
       "    </tr>\n",
       "    <tr>\n",
       "      <th>3</th>\n",
       "      <td>1985-04-01</td>\n",
       "      <td>128.67</td>\n",
       "    </tr>\n",
       "    <tr>\n",
       "      <th>4</th>\n",
       "      <td>1985-05-01</td>\n",
       "      <td>125.99</td>\n",
       "    </tr>\n",
       "  </tbody>\n",
       "</table>\n",
       "</div>"
      ],
      "text/plain": [
       "       Month  gold_rate\n",
       "0 1985-01-01     122.63\n",
       "1 1985-02-01     124.42\n",
       "2 1985-03-01     124.01\n",
       "3 1985-04-01     128.67\n",
       "4 1985-05-01     125.99"
      ]
     },
     "execution_count": 31,
     "metadata": {},
     "output_type": "execute_result"
    }
   ],
   "source": [
    "g_data.head()"
   ]
  },
  {
   "cell_type": "markdown",
   "id": "9b007f1c",
   "metadata": {},
   "source": [
    "# Read Crude oil data"
   ]
  },
  {
   "cell_type": "code",
   "execution_count": 32,
   "id": "2efe955e",
   "metadata": {},
   "outputs": [],
   "source": [
    "crude = pd.read_csv(crude_file)"
   ]
  },
  {
   "cell_type": "code",
   "execution_count": 33,
   "id": "1dd3e5c5",
   "metadata": {},
   "outputs": [
    {
     "data": {
      "text/html": [
       "<div>\n",
       "<style scoped>\n",
       "    .dataframe tbody tr th:only-of-type {\n",
       "        vertical-align: middle;\n",
       "    }\n",
       "\n",
       "    .dataframe tbody tr th {\n",
       "        vertical-align: top;\n",
       "    }\n",
       "\n",
       "    .dataframe thead th {\n",
       "        text-align: right;\n",
       "    }\n",
       "</style>\n",
       "<table border=\"1\" class=\"dataframe\">\n",
       "  <thead>\n",
       "    <tr style=\"text-align: right;\">\n",
       "      <th></th>\n",
       "      <th>date</th>\n",
       "      <th>price</th>\n",
       "      <th>percentChange</th>\n",
       "      <th>change</th>\n",
       "    </tr>\n",
       "  </thead>\n",
       "  <tbody>\n",
       "    <tr>\n",
       "      <th>0</th>\n",
       "      <td>1983-03-30T00:00:00</td>\n",
       "      <td>29.27</td>\n",
       "      <td>NaN</td>\n",
       "      <td>NaN</td>\n",
       "    </tr>\n",
       "    <tr>\n",
       "      <th>1</th>\n",
       "      <td>1983-04-04T00:00:00</td>\n",
       "      <td>30.63</td>\n",
       "      <td>4.646396</td>\n",
       "      <td>1.36</td>\n",
       "    </tr>\n",
       "    <tr>\n",
       "      <th>2</th>\n",
       "      <td>1983-05-02T00:00:00</td>\n",
       "      <td>30.25</td>\n",
       "      <td>-1.240614</td>\n",
       "      <td>-0.38</td>\n",
       "    </tr>\n",
       "    <tr>\n",
       "      <th>3</th>\n",
       "      <td>1983-06-01T00:00:00</td>\n",
       "      <td>31.38</td>\n",
       "      <td>3.735537</td>\n",
       "      <td>1.13</td>\n",
       "    </tr>\n",
       "    <tr>\n",
       "      <th>4</th>\n",
       "      <td>1983-07-01T00:00:00</td>\n",
       "      <td>32.00</td>\n",
       "      <td>1.975781</td>\n",
       "      <td>0.62</td>\n",
       "    </tr>\n",
       "  </tbody>\n",
       "</table>\n",
       "</div>"
      ],
      "text/plain": [
       "                  date  price  percentChange  change\n",
       "0  1983-03-30T00:00:00  29.27            NaN     NaN\n",
       "1  1983-04-04T00:00:00  30.63       4.646396    1.36\n",
       "2  1983-05-02T00:00:00  30.25      -1.240614   -0.38\n",
       "3  1983-06-01T00:00:00  31.38       3.735537    1.13\n",
       "4  1983-07-01T00:00:00  32.00       1.975781    0.62"
      ]
     },
     "execution_count": 33,
     "metadata": {},
     "output_type": "execute_result"
    }
   ],
   "source": [
    "crude.head()"
   ]
  },
  {
   "cell_type": "markdown",
   "id": "2f939e9b",
   "metadata": {},
   "source": [
    "Crude oil price in USD/Bbl from 1983 to present. Cconverting it to INR/Bbl"
   ]
  },
  {
   "cell_type": "code",
   "execution_count": null,
   "id": "198ad9e6",
   "metadata": {},
   "outputs": [],
   "source": []
  }
 ],
 "metadata": {
  "kernelspec": {
   "display_name": "Python 3 (ipykernel)",
   "language": "python",
   "name": "python3"
  },
  "language_info": {
   "codemirror_mode": {
    "name": "ipython",
    "version": 3
   },
   "file_extension": ".py",
   "mimetype": "text/x-python",
   "name": "python",
   "nbconvert_exporter": "python",
   "pygments_lexer": "ipython3",
   "version": "3.9.12"
  }
 },
 "nbformat": 4,
 "nbformat_minor": 5
}
