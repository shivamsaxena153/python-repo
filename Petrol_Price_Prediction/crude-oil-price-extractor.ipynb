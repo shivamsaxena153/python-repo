{
 "cells": [
  {
   "cell_type": "markdown",
   "id": "b2b93fd9",
   "metadata": {
    "execution": {
     "iopub.execute_input": "2022-05-30T03:21:37.929106Z",
     "iopub.status.busy": "2022-05-30T03:21:37.927896Z",
     "iopub.status.idle": "2022-05-30T03:22:30.247601Z",
     "shell.execute_reply": "2022-05-30T03:22:30.248137Z",
     "shell.execute_reply.started": "2022-03-12T12:05:07.794815Z"
    },
    "papermill": {
     "duration": 52.354964,
     "end_time": "2022-05-30T03:22:30.248445",
     "exception": false,
     "start_time": "2022-05-30T03:21:37.893481",
     "status": "completed"
    },
    "scrolled": true,
    "tags": []
   },
   "source": [
    "!pip install pychrome selenium kaggle\n",
    "!wget https://dl.google.com/linux/direct/google-chrome-stable_current_amd64.deb\n",
    "!apt update -y\n",
    "!apt install ./google-chrome-stable_current_amd64.deb -y\n",
    "import os\n",
    "version=os.popen('google-chrome --version').read().replace('Google Chrome ','').replace(' \\n','')\n",
    "!pip install chromedriver-py=={version}\n",
    "!rm ./google-chrome-stable_current_amd64.deb"
   ]
  },
  {
   "cell_type": "code",
   "execution_count": 2,
   "id": "b522be25",
   "metadata": {},
   "outputs": [
    {
     "name": "stdout",
     "output_type": "stream",
     "text": [
      "Collecting pychrome\n",
      "  Downloading pychrome-0.2.3.tar.gz (10 kB)\n",
      "Requirement already satisfied: click>=6.0 in c:\\users\\shiva\\anaconda3\\lib\\site-packages (from pychrome) (8.0.4)\n",
      "Requirement already satisfied: websocket-client>=0.44.0 in c:\\users\\shiva\\anaconda3\\lib\\site-packages (from pychrome) (0.58.0)\n",
      "Requirement already satisfied: requests>=2.13.0 in c:\\users\\shiva\\anaconda3\\lib\\site-packages (from pychrome) (2.27.1)\n",
      "Requirement already satisfied: colorama in c:\\users\\shiva\\anaconda3\\lib\\site-packages (from click>=6.0->pychrome) (0.4.4)\n",
      "Requirement already satisfied: charset-normalizer~=2.0.0 in c:\\users\\shiva\\anaconda3\\lib\\site-packages (from requests>=2.13.0->pychrome) (2.0.4)\n",
      "Requirement already satisfied: urllib3<1.27,>=1.21.1 in c:\\users\\shiva\\anaconda3\\lib\\site-packages (from requests>=2.13.0->pychrome) (1.26.9)\n",
      "Requirement already satisfied: idna<4,>=2.5 in c:\\users\\shiva\\anaconda3\\lib\\site-packages (from requests>=2.13.0->pychrome) (3.3)\n",
      "Requirement already satisfied: certifi>=2017.4.17 in c:\\users\\shiva\\anaconda3\\lib\\site-packages (from requests>=2.13.0->pychrome) (2021.10.8)\n",
      "Requirement already satisfied: six in c:\\users\\shiva\\anaconda3\\lib\\site-packages (from websocket-client>=0.44.0->pychrome) (1.16.0)\n",
      "Building wheels for collected packages: pychrome\n",
      "  Building wheel for pychrome (setup.py): started\n",
      "  Building wheel for pychrome (setup.py): finished with status 'done'\n",
      "  Created wheel for pychrome: filename=pychrome-0.2.3-py2.py3-none-any.whl size=8143 sha256=4fb5a116a9aa8428c47742d6044acbd0eec28041561e2a54f31cb1724c9d3dfa\n",
      "  Stored in directory: c:\\users\\shiva\\appdata\\local\\pip\\cache\\wheels\\fa\\8b\\df\\f6d72f867a6d357e59abdaabeb15bd365d45ed515762db589d\n",
      "Successfully built pychrome\n",
      "Installing collected packages: pychrome\n",
      "Successfully installed pychrome-0.2.3\n"
     ]
    }
   ],
   "source": [
    "!pip install pychrome"
   ]
  },
  {
   "cell_type": "code",
   "execution_count": 3,
   "id": "025bab49",
   "metadata": {},
   "outputs": [
    {
     "data": {
      "text/plain": [
       "''"
      ]
     },
     "execution_count": 3,
     "metadata": {},
     "output_type": "execute_result"
    }
   ],
   "source": [
    "import os\n",
    "version=os.popen('google-chrome --version').read().replace('Google Chrome ','').replace(' \\n','')\n",
    "version"
   ]
  },
  {
   "cell_type": "code",
   "execution_count": 1,
   "id": "9e5440f5",
   "metadata": {
    "execution": {
     "iopub.execute_input": "2022-05-30T03:22:30.453537Z",
     "iopub.status.busy": "2022-05-30T03:22:30.452865Z",
     "iopub.status.idle": "2022-05-30T03:22:30.506008Z",
     "shell.execute_reply": "2022-05-30T03:22:30.506583Z",
     "shell.execute_reply.started": "2022-03-12T12:05:33.924679Z"
    },
    "papermill": {
     "duration": 0.155332,
     "end_time": "2022-05-30T03:22:30.506745",
     "exception": false,
     "start_time": "2022-05-30T03:22:30.351413",
     "status": "completed"
    },
    "tags": []
   },
   "outputs": [
    {
     "ename": "ModuleNotFoundError",
     "evalue": "No module named 'chromedriver_py'",
     "output_type": "error",
     "traceback": [
      "\u001b[1;31m---------------------------------------------------------------------------\u001b[0m",
      "\u001b[1;31mModuleNotFoundError\u001b[0m                       Traceback (most recent call last)",
      "Input \u001b[1;32mIn [1]\u001b[0m, in \u001b[0;36m<cell line: 1>\u001b[1;34m()\u001b[0m\n\u001b[1;32m----> 1\u001b[0m \u001b[38;5;28;01mfrom\u001b[39;00m \u001b[38;5;21;01mchromedriver_py\u001b[39;00m \u001b[38;5;28;01mimport\u001b[39;00m binary_path\n\u001b[0;32m      2\u001b[0m \u001b[38;5;28;01mimport\u001b[39;00m \u001b[38;5;21;01mpychrome\u001b[39;00m\n\u001b[0;32m      3\u001b[0m \u001b[38;5;28;01mfrom\u001b[39;00m \u001b[38;5;21;01mselenium\u001b[39;00m \u001b[38;5;28;01mimport\u001b[39;00m webdriver\n",
      "\u001b[1;31mModuleNotFoundError\u001b[0m: No module named 'chromedriver_py'"
     ]
    }
   ],
   "source": [
    "from chromedriver_py import binary_path\n",
    "import pychrome\n",
    "from selenium import webdriver\n",
    "from selenium.webdriver.common.service import Service\n",
    "from selenium.webdriver.common.by import By\n",
    "import json\n",
    "import pandas as pd\n",
    "from time import sleep"
   ]
  },
  {
   "cell_type": "code",
   "execution_count": 3,
   "id": "da6f49cc",
   "metadata": {
    "execution": {
     "iopub.execute_input": "2022-05-30T03:22:30.704562Z",
     "iopub.status.busy": "2022-05-30T03:22:30.703912Z",
     "iopub.status.idle": "2022-05-30T03:22:30.706331Z",
     "shell.execute_reply": "2022-05-30T03:22:30.706911Z",
     "shell.execute_reply.started": "2022-03-12T12:05:33.933049Z"
    },
    "papermill": {
     "duration": 0.103908,
     "end_time": "2022-05-30T03:22:30.707090",
     "exception": false,
     "start_time": "2022-05-30T03:22:30.603182",
     "status": "completed"
    },
    "tags": []
   },
   "outputs": [],
   "source": [
    "url='https://tradingeconomics.com/commodity/crude-oil'"
   ]
  },
  {
   "cell_type": "code",
   "execution_count": 4,
   "id": "140c980c",
   "metadata": {
    "execution": {
     "iopub.execute_input": "2022-05-30T03:22:30.902373Z",
     "iopub.status.busy": "2022-05-30T03:22:30.901735Z",
     "iopub.status.idle": "2022-05-30T03:22:32.080804Z",
     "shell.execute_reply": "2022-05-30T03:22:32.080244Z",
     "shell.execute_reply.started": "2022-03-12T12:05:33.946259Z"
    },
    "papermill": {
     "duration": 1.2794,
     "end_time": "2022-05-30T03:22:32.080949",
     "exception": false,
     "start_time": "2022-05-30T03:22:30.801549",
     "status": "completed"
    },
    "tags": []
   },
   "outputs": [
    {
     "name": "stderr",
     "output_type": "stream",
     "text": [
      "/opt/conda/lib/python3.7/site-packages/ipykernel_launcher.py:8: DeprecationWarning: executable_path has been deprecated, please pass in a Service object\n",
      "  \n"
     ]
    }
   ],
   "source": [
    "# Create a new instance of the Chrome driver\n",
    "options = webdriver.ChromeOptions()\n",
    "options.add_argument('--headless')        #remove this for easy debbuing on your laptop /pc\n",
    "options.add_argument('--no-sandbox')                             \n",
    "options.add_argument('--disable-dev-shm-usage')\n",
    "options.add_argument('--remote-debugging-port=8000')\n",
    "\n",
    "driver = webdriver.Chrome(binary_path,options=options)"
   ]
  },
  {
   "cell_type": "code",
   "execution_count": 5,
   "id": "a248c0c5",
   "metadata": {
    "execution": {
     "iopub.execute_input": "2022-05-30T03:22:32.276010Z",
     "iopub.status.busy": "2022-05-30T03:22:32.275525Z",
     "iopub.status.idle": "2022-05-30T03:22:32.295846Z",
     "shell.execute_reply": "2022-05-30T03:22:32.295408Z",
     "shell.execute_reply.started": "2022-03-12T12:05:34.617244Z"
    },
    "papermill": {
     "duration": 0.118174,
     "end_time": "2022-05-30T03:22:32.295969",
     "exception": false,
     "start_time": "2022-05-30T03:22:32.177795",
     "status": "completed"
    },
    "tags": []
   },
   "outputs": [
    {
     "data": {
      "text/plain": [
       "{}"
      ]
     },
     "execution_count": 5,
     "metadata": {},
     "output_type": "execute_result"
    }
   ],
   "source": [
    "dev_tools = pychrome.Browser(url='http://localhost:8000')\n",
    "tab=dev_tools.list_tab()[0]\n",
    "tab.start()\n",
    "tab.Network.enable()"
   ]
  },
  {
   "cell_type": "code",
   "execution_count": 6,
   "id": "b49015eb",
   "metadata": {
    "execution": {
     "iopub.execute_input": "2022-05-30T03:22:32.427236Z",
     "iopub.status.busy": "2022-05-30T03:22:32.426556Z",
     "iopub.status.idle": "2022-05-30T03:22:45.339219Z",
     "shell.execute_reply": "2022-05-30T03:22:45.337960Z",
     "shell.execute_reply.started": "2022-03-12T12:05:34.64999Z"
    },
    "papermill": {
     "duration": 12.979704,
     "end_time": "2022-05-30T03:22:45.339379",
     "exception": false,
     "start_time": "2022-05-30T03:22:32.359675",
     "status": "completed"
    },
    "tags": []
   },
   "outputs": [
    {
     "name": "stderr",
     "output_type": "stream",
     "text": [
      "/opt/conda/lib/python3.7/site-packages/ipykernel_launcher.py:10: DeprecationWarning: find_element_by_xpath is deprecated. Please use find_element(by=By.XPATH, value=xpath) instead\n",
      "  # Remove the CWD from sys.path while we load stuff.\n"
     ]
    }
   ],
   "source": [
    "def response_received(**kwargs):\n",
    "    if kwargs.get('response').get('url').find('https://markets.tradingeconomics.com/chart') >= 0:\n",
    "        global raw_data\n",
    "        raw_data = tab.Network.getResponseBody(requestId=kwargs['requestId'])\n",
    "        # print(tab.Network.getResponseBody(requestId=kwargs['requestId']))\n",
    "tab.Network.responseReceived = response_received\n",
    "driver.get(url)\n",
    "sleep(5)\n",
    "# driver.find_element(by=By.XPATH, value=\"//a[@title='All']\").click()\n",
    "driver.find_element_by_xpath(\"//*[@title='All']\").click()\n",
    "# driver.find_element_by_xpath(\"//*[@data-span='max']\").click()\n",
    "sleep(5)"
   ]
  },
  {
   "cell_type": "code",
   "execution_count": 7,
   "id": "241b88e7",
   "metadata": {
    "execution": {
     "iopub.execute_input": "2022-05-30T03:22:45.472436Z",
     "iopub.status.busy": "2022-05-30T03:22:45.471918Z",
     "iopub.status.idle": "2022-05-30T03:22:45.475089Z",
     "shell.execute_reply": "2022-05-30T03:22:45.474568Z",
     "shell.execute_reply.started": "2022-03-12T12:05:47.297275Z"
    },
    "papermill": {
     "duration": 0.072627,
     "end_time": "2022-05-30T03:22:45.475198",
     "exception": false,
     "start_time": "2022-05-30T03:22:45.402571",
     "status": "completed"
    },
    "tags": []
   },
   "outputs": [],
   "source": [
    "data = json.loads(raw_data['body'])"
   ]
  },
  {
   "cell_type": "code",
   "execution_count": 8,
   "id": "e2c4818c",
   "metadata": {
    "execution": {
     "iopub.execute_input": "2022-05-30T03:22:45.616937Z",
     "iopub.status.busy": "2022-05-30T03:22:45.606802Z",
     "iopub.status.idle": "2022-05-30T03:22:45.633402Z",
     "shell.execute_reply": "2022-05-30T03:22:45.632963Z",
     "shell.execute_reply.started": "2022-03-12T12:06:09.344128Z"
    },
    "papermill": {
     "duration": 0.093996,
     "end_time": "2022-05-30T03:22:45.633526",
     "exception": false,
     "start_time": "2022-05-30T03:22:45.539530",
     "status": "completed"
    },
    "tags": []
   },
   "outputs": [
    {
     "data": {
      "text/html": [
       "<div>\n",
       "<style scoped>\n",
       "    .dataframe tbody tr th:only-of-type {\n",
       "        vertical-align: middle;\n",
       "    }\n",
       "\n",
       "    .dataframe tbody tr th {\n",
       "        vertical-align: top;\n",
       "    }\n",
       "\n",
       "    .dataframe thead th {\n",
       "        text-align: right;\n",
       "    }\n",
       "</style>\n",
       "<table border=\"1\" class=\"dataframe\">\n",
       "  <thead>\n",
       "    <tr style=\"text-align: right;\">\n",
       "      <th></th>\n",
       "      <th>date</th>\n",
       "      <th>x</th>\n",
       "      <th>y</th>\n",
       "      <th>percentChange</th>\n",
       "      <th>change</th>\n",
       "    </tr>\n",
       "  </thead>\n",
       "  <tbody>\n",
       "    <tr>\n",
       "      <th>0</th>\n",
       "      <td>1983-03-30T00:00:00</td>\n",
       "      <td>417830400000</td>\n",
       "      <td>29.27</td>\n",
       "      <td>NaN</td>\n",
       "      <td>NaN</td>\n",
       "    </tr>\n",
       "    <tr>\n",
       "      <th>1</th>\n",
       "      <td>1983-04-04T00:00:00</td>\n",
       "      <td>418262400000</td>\n",
       "      <td>30.63</td>\n",
       "      <td>4.646396</td>\n",
       "      <td>1.36</td>\n",
       "    </tr>\n",
       "    <tr>\n",
       "      <th>2</th>\n",
       "      <td>1983-05-02T00:00:00</td>\n",
       "      <td>420681600000</td>\n",
       "      <td>30.25</td>\n",
       "      <td>-1.240614</td>\n",
       "      <td>-0.38</td>\n",
       "    </tr>\n",
       "    <tr>\n",
       "      <th>3</th>\n",
       "      <td>1983-06-01T00:00:00</td>\n",
       "      <td>423273600000</td>\n",
       "      <td>31.38</td>\n",
       "      <td>3.735537</td>\n",
       "      <td>1.13</td>\n",
       "    </tr>\n",
       "    <tr>\n",
       "      <th>4</th>\n",
       "      <td>1983-07-01T00:00:00</td>\n",
       "      <td>425865600000</td>\n",
       "      <td>32.00</td>\n",
       "      <td>1.975781</td>\n",
       "      <td>0.62</td>\n",
       "    </tr>\n",
       "  </tbody>\n",
       "</table>\n",
       "</div>"
      ],
      "text/plain": [
       "                  date             x      y  percentChange  change\n",
       "0  1983-03-30T00:00:00  417830400000  29.27            NaN     NaN\n",
       "1  1983-04-04T00:00:00  418262400000  30.63       4.646396    1.36\n",
       "2  1983-05-02T00:00:00  420681600000  30.25      -1.240614   -0.38\n",
       "3  1983-06-01T00:00:00  423273600000  31.38       3.735537    1.13\n",
       "4  1983-07-01T00:00:00  425865600000  32.00       1.975781    0.62"
      ]
     },
     "execution_count": 8,
     "metadata": {},
     "output_type": "execute_result"
    }
   ],
   "source": [
    "df=pd.DataFrame(data['series'][0]['data'])\n",
    "df.head()"
   ]
  },
  {
   "cell_type": "code",
   "execution_count": 9,
   "id": "97116f0e",
   "metadata": {
    "execution": {
     "iopub.execute_input": "2022-05-30T03:22:45.770865Z",
     "iopub.status.busy": "2022-05-30T03:22:45.770374Z",
     "iopub.status.idle": "2022-05-30T03:22:45.778012Z",
     "shell.execute_reply": "2022-05-30T03:22:45.778457Z",
     "shell.execute_reply.started": "2022-03-12T12:12:09.731928Z"
    },
    "papermill": {
     "duration": 0.080862,
     "end_time": "2022-05-30T03:22:45.778600",
     "exception": false,
     "start_time": "2022-05-30T03:22:45.697738",
     "status": "completed"
    },
    "tags": []
   },
   "outputs": [],
   "source": [
    "df.rename(columns={'y':'price'},inplace=True)\n",
    "df.drop(['x'],axis=1,inplace=True)"
   ]
  },
  {
   "cell_type": "code",
   "execution_count": 10,
   "id": "7b4b5166",
   "metadata": {
    "execution": {
     "iopub.execute_input": "2022-05-30T03:22:45.911228Z",
     "iopub.status.busy": "2022-05-30T03:22:45.910734Z",
     "iopub.status.idle": "2022-05-30T03:22:45.919314Z",
     "shell.execute_reply": "2022-05-30T03:22:45.919689Z",
     "shell.execute_reply.started": "2022-03-12T12:19:21.892146Z"
    },
    "papermill": {
     "duration": 0.077413,
     "end_time": "2022-05-30T03:22:45.919832",
     "exception": false,
     "start_time": "2022-05-30T03:22:45.842419",
     "status": "completed"
    },
    "tags": []
   },
   "outputs": [],
   "source": [
    "df.to_csv(f'crude-oil-price.csv',index=None)"
   ]
  }
 ],
 "metadata": {
  "kernelspec": {
   "display_name": "Python 3 (ipykernel)",
   "language": "python",
   "name": "python3"
  },
  "language_info": {
   "codemirror_mode": {
    "name": "ipython",
    "version": 3
   },
   "file_extension": ".py",
   "mimetype": "text/x-python",
   "name": "python",
   "nbconvert_exporter": "python",
   "pygments_lexer": "ipython3",
   "version": "3.9.12"
  },
  "papermill": {
   "default_parameters": {},
   "duration": 80.804147,
   "end_time": "2022-05-30T03:22:46.896313",
   "environment_variables": {},
   "exception": null,
   "input_path": "__notebook__.ipynb",
   "output_path": "__notebook__.ipynb",
   "parameters": {},
   "start_time": "2022-05-30T03:21:26.092166",
   "version": "2.3.3"
  }
 },
 "nbformat": 4,
 "nbformat_minor": 5
}
