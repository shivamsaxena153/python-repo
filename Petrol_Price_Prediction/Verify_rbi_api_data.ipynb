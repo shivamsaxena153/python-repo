{
 "cells": [
  {
   "cell_type": "code",
   "execution_count": 79,
   "id": "24ba2d6e",
   "metadata": {},
   "outputs": [],
   "source": [
    "import pandas as pd\n",
    "from pandas.tseries.offsets import MonthBegin"
   ]
  },
  {
   "cell_type": "code",
   "execution_count": 80,
   "id": "2efc56e2",
   "metadata": {},
   "outputs": [],
   "source": [
    "data2 = pd.read_csv('rbi_usd_to_inr.csv', parse_dates=['Date'])"
   ]
  },
  {
   "cell_type": "code",
   "execution_count": 81,
   "id": "633a8539",
   "metadata": {},
   "outputs": [
    {
     "data": {
      "text/html": [
       "<div>\n",
       "<style scoped>\n",
       "    .dataframe tbody tr th:only-of-type {\n",
       "        vertical-align: middle;\n",
       "    }\n",
       "\n",
       "    .dataframe tbody tr th {\n",
       "        vertical-align: top;\n",
       "    }\n",
       "\n",
       "    .dataframe thead th {\n",
       "        text-align: right;\n",
       "    }\n",
       "</style>\n",
       "<table border=\"1\" class=\"dataframe\">\n",
       "  <thead>\n",
       "    <tr style=\"text-align: right;\">\n",
       "      <th></th>\n",
       "      <th>Date</th>\n",
       "      <th>Rate</th>\n",
       "    </tr>\n",
       "  </thead>\n",
       "  <tbody>\n",
       "    <tr>\n",
       "      <th>0</th>\n",
       "      <td>2022-06-27</td>\n",
       "      <td>78.2890</td>\n",
       "    </tr>\n",
       "    <tr>\n",
       "      <th>1</th>\n",
       "      <td>2022-06-24</td>\n",
       "      <td>78.3308</td>\n",
       "    </tr>\n",
       "    <tr>\n",
       "      <th>2</th>\n",
       "      <td>2022-06-23</td>\n",
       "      <td>78.2662</td>\n",
       "    </tr>\n",
       "    <tr>\n",
       "      <th>3</th>\n",
       "      <td>2022-06-22</td>\n",
       "      <td>78.2115</td>\n",
       "    </tr>\n",
       "    <tr>\n",
       "      <th>4</th>\n",
       "      <td>2022-06-21</td>\n",
       "      <td>78.0861</td>\n",
       "    </tr>\n",
       "  </tbody>\n",
       "</table>\n",
       "</div>"
      ],
      "text/plain": [
       "        Date     Rate\n",
       "0 2022-06-27  78.2890\n",
       "1 2022-06-24  78.3308\n",
       "2 2022-06-23  78.2662\n",
       "3 2022-06-22  78.2115\n",
       "4 2022-06-21  78.0861"
      ]
     },
     "execution_count": 81,
     "metadata": {},
     "output_type": "execute_result"
    }
   ],
   "source": [
    "data2.head()"
   ]
  },
  {
   "cell_type": "code",
   "execution_count": 82,
   "id": "646ec748",
   "metadata": {},
   "outputs": [
    {
     "name": "stdout",
     "output_type": "stream",
     "text": [
      "<class 'pandas.core.frame.DataFrame'>\n",
      "RangeIndex: 5764 entries, 0 to 5763\n",
      "Data columns (total 2 columns):\n",
      " #   Column  Non-Null Count  Dtype         \n",
      "---  ------  --------------  -----         \n",
      " 0   Date    5764 non-null   datetime64[ns]\n",
      " 1   Rate    5764 non-null   float64       \n",
      "dtypes: datetime64[ns](1), float64(1)\n",
      "memory usage: 90.2 KB\n"
     ]
    }
   ],
   "source": [
    "data2.info()"
   ]
  },
  {
   "cell_type": "code",
   "execution_count": 83,
   "id": "c4a823cc",
   "metadata": {},
   "outputs": [
    {
     "name": "stdout",
     "output_type": "stream",
     "text": [
      "2022-06-27 00:00:00\n",
      "1998-08-25 00:00:00\n"
     ]
    }
   ],
   "source": [
    "print(data2.Date.max())\n",
    "print(data2.Date.min())"
   ]
  },
  {
   "cell_type": "code",
   "execution_count": 84,
   "id": "688faea3",
   "metadata": {},
   "outputs": [],
   "source": [
    "data2['Month'] = data2['Date'].apply(lambda x: MonthBegin(0).rollback(x))\n",
    "g_data1 = data2.groupby(by='Month', as_index=False).mean()\n",
    "g_data1['Rate'] = round(g_data1['Rate'], 2)\n",
    "g_data1.rename({'Rate':'Month_Mean_Rate'}, axis=1, inplace=True)\n",
    "merge_data = pd.merge(left=data2, right=g_data1, on='Month')"
   ]
  },
  {
   "cell_type": "code",
   "execution_count": 85,
   "id": "d57fad9c",
   "metadata": {},
   "outputs": [
    {
     "data": {
      "text/html": [
       "<div>\n",
       "<style scoped>\n",
       "    .dataframe tbody tr th:only-of-type {\n",
       "        vertical-align: middle;\n",
       "    }\n",
       "\n",
       "    .dataframe tbody tr th {\n",
       "        vertical-align: top;\n",
       "    }\n",
       "\n",
       "    .dataframe thead th {\n",
       "        text-align: right;\n",
       "    }\n",
       "</style>\n",
       "<table border=\"1\" class=\"dataframe\">\n",
       "  <thead>\n",
       "    <tr style=\"text-align: right;\">\n",
       "      <th></th>\n",
       "      <th>Date</th>\n",
       "      <th>Rate</th>\n",
       "      <th>Month</th>\n",
       "      <th>Month_Mean_Rate</th>\n",
       "    </tr>\n",
       "  </thead>\n",
       "  <tbody>\n",
       "    <tr>\n",
       "      <th>0</th>\n",
       "      <td>2022-06-27</td>\n",
       "      <td>78.2890</td>\n",
       "      <td>2022-06-01</td>\n",
       "      <td>77.95</td>\n",
       "    </tr>\n",
       "    <tr>\n",
       "      <th>1</th>\n",
       "      <td>2022-06-24</td>\n",
       "      <td>78.3308</td>\n",
       "      <td>2022-06-01</td>\n",
       "      <td>77.95</td>\n",
       "    </tr>\n",
       "    <tr>\n",
       "      <th>2</th>\n",
       "      <td>2022-06-23</td>\n",
       "      <td>78.2662</td>\n",
       "      <td>2022-06-01</td>\n",
       "      <td>77.95</td>\n",
       "    </tr>\n",
       "    <tr>\n",
       "      <th>3</th>\n",
       "      <td>2022-06-22</td>\n",
       "      <td>78.2115</td>\n",
       "      <td>2022-06-01</td>\n",
       "      <td>77.95</td>\n",
       "    </tr>\n",
       "    <tr>\n",
       "      <th>4</th>\n",
       "      <td>2022-06-21</td>\n",
       "      <td>78.0861</td>\n",
       "      <td>2022-06-01</td>\n",
       "      <td>77.95</td>\n",
       "    </tr>\n",
       "    <tr>\n",
       "      <th>...</th>\n",
       "      <td>...</td>\n",
       "      <td>...</td>\n",
       "      <td>...</td>\n",
       "      <td>...</td>\n",
       "    </tr>\n",
       "    <tr>\n",
       "      <th>5759</th>\n",
       "      <td>1998-09-02</td>\n",
       "      <td>42.5297</td>\n",
       "      <td>1998-09-01</td>\n",
       "      <td>42.52</td>\n",
       "    </tr>\n",
       "    <tr>\n",
       "      <th>5760</th>\n",
       "      <td>1998-09-01</td>\n",
       "      <td>42.5206</td>\n",
       "      <td>1998-09-01</td>\n",
       "      <td>42.52</td>\n",
       "    </tr>\n",
       "    <tr>\n",
       "      <th>5761</th>\n",
       "      <td>1998-08-28</td>\n",
       "      <td>42.5405</td>\n",
       "      <td>1998-08-01</td>\n",
       "      <td>42.52</td>\n",
       "    </tr>\n",
       "    <tr>\n",
       "      <th>5762</th>\n",
       "      <td>1998-08-27</td>\n",
       "      <td>42.5297</td>\n",
       "      <td>1998-08-01</td>\n",
       "      <td>42.52</td>\n",
       "    </tr>\n",
       "    <tr>\n",
       "      <th>5763</th>\n",
       "      <td>1998-08-25</td>\n",
       "      <td>42.5007</td>\n",
       "      <td>1998-08-01</td>\n",
       "      <td>42.52</td>\n",
       "    </tr>\n",
       "  </tbody>\n",
       "</table>\n",
       "<p>5764 rows × 4 columns</p>\n",
       "</div>"
      ],
      "text/plain": [
       "           Date     Rate      Month  Month_Mean_Rate\n",
       "0    2022-06-27  78.2890 2022-06-01            77.95\n",
       "1    2022-06-24  78.3308 2022-06-01            77.95\n",
       "2    2022-06-23  78.2662 2022-06-01            77.95\n",
       "3    2022-06-22  78.2115 2022-06-01            77.95\n",
       "4    2022-06-21  78.0861 2022-06-01            77.95\n",
       "...         ...      ...        ...              ...\n",
       "5759 1998-09-02  42.5297 1998-09-01            42.52\n",
       "5760 1998-09-01  42.5206 1998-09-01            42.52\n",
       "5761 1998-08-28  42.5405 1998-08-01            42.52\n",
       "5762 1998-08-27  42.5297 1998-08-01            42.52\n",
       "5763 1998-08-25  42.5007 1998-08-01            42.52\n",
       "\n",
       "[5764 rows x 4 columns]"
      ]
     },
     "execution_count": 85,
     "metadata": {},
     "output_type": "execute_result"
    }
   ],
   "source": [
    "merge_data"
   ]
  },
  {
   "cell_type": "code",
   "execution_count": 86,
   "id": "e23ca180",
   "metadata": {},
   "outputs": [],
   "source": [
    "merge_data.to_csv('rbi_usd_inr_final.csv', index=False)"
   ]
  },
  {
   "cell_type": "code",
   "execution_count": null,
   "id": "8200a313",
   "metadata": {},
   "outputs": [],
   "source": []
  }
 ],
 "metadata": {
  "kernelspec": {
   "display_name": "Python 3 (ipykernel)",
   "language": "python",
   "name": "python3"
  },
  "language_info": {
   "codemirror_mode": {
    "name": "ipython",
    "version": 3
   },
   "file_extension": ".py",
   "mimetype": "text/x-python",
   "name": "python",
   "nbconvert_exporter": "python",
   "pygments_lexer": "ipython3",
   "version": "3.9.12"
  }
 },
 "nbformat": 4,
 "nbformat_minor": 5
}
